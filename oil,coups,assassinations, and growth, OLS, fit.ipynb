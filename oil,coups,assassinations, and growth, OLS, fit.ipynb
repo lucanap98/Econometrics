{
  "nbformat": 4,
  "nbformat_minor": 0,
  "metadata": {
    "colab": {
      "provenance": []
    },
    "kernelspec": {
      "name": "python3",
      "display_name": "Python 3"
    },
    "language_info": {
      "name": "python"
    }
  },
  "cells": [
    {
      "cell_type": "code",
      "execution_count": null,
      "metadata": {
        "id": "lPSR84KqL-oj"
      },
      "outputs": [],
      "source": [
        "import pandas as pd\n",
        "import statistics as st\n",
        "import statsmodels.formula.api as smf\n",
        "import xlrd"
      ]
    },
    {
      "cell_type": "code",
      "source": [
        "import os\n",
        "os.getcwd()"
      ],
      "metadata": {
        "colab": {
          "base_uri": "https://localhost:8080/",
          "height": 35
        },
        "id": "uO8Ikb7O8n3z",
        "outputId": "f645e2fa-1148-49bd-8055-504ad62be4fc"
      },
      "execution_count": null,
      "outputs": [
        {
          "output_type": "execute_result",
          "data": {
            "text/plain": [
              "'/content'"
            ],
            "application/vnd.google.colaboratory.intrinsic+json": {
              "type": "string"
            }
          },
          "metadata": {},
          "execution_count": 49
        }
      ]
    },
    {
      "cell_type": "code",
      "source": [
        "Ch6data = pd.read_excel(\"/content/Growth.xlsx\")\n",
        "print(Ch6data)"
      ],
      "metadata": {
        "colab": {
          "base_uri": "https://localhost:8080/"
        },
        "id": "A2oYEwLS8w67",
        "outputId": "729d82ef-8aae-41c4-d08b-4ef3e78e0a4e"
      },
      "execution_count": null,
      "outputs": [
        {
          "output_type": "stream",
          "name": "stdout",
          "text": [
            "     country_name    growth  oil       rgdp60  tradeshare  yearsschool  \\\n",
            "0           India  1.915168    0   765.999817    0.140502         1.45   \n",
            "1       Argentina  0.617645    0  4462.001465    0.156623         4.99   \n",
            "2           Japan  4.304759    0  2953.999512    0.157703         6.71   \n",
            "3          Brazil  2.930097    0  1783.999878    0.160405         2.89   \n",
            "4   United States  1.712265    0  9895.003906    0.160815         8.66   \n",
            "..            ...       ...  ...          ...         ...          ...   \n",
            "60         Cyprus  5.384184    0  2037.000366    0.979355         4.29   \n",
            "61       Malaysia  4.114544    0  1420.000244    1.105364         2.34   \n",
            "62        Belgium  2.651335    0  5495.001953    1.115917         7.46   \n",
            "63      Mauritius  3.024178    0  2861.999268    1.127937         2.44   \n",
            "64          Malta  6.652838    0  1374.000000    1.992616         5.64   \n",
            "\n",
            "    rev_coups  assasinations  \n",
            "0    0.133333       0.866667  \n",
            "1    0.933333       1.933333  \n",
            "2    0.000000       0.200000  \n",
            "3    0.100000       0.100000  \n",
            "4    0.000000       0.433333  \n",
            "..        ...            ...  \n",
            "60   0.100000       0.166667  \n",
            "61   0.033333       0.033333  \n",
            "62   0.000000       0.000000  \n",
            "63   0.000000       0.000000  \n",
            "64   0.000000       0.000000  \n",
            "\n",
            "[65 rows x 8 columns]\n"
          ]
        }
      ]
    },
    {
      "cell_type": "code",
      "source": [
        "meanoil =st.mean(Ch6data['oil'])\n",
        "print(meanoil)"
      ],
      "metadata": {
        "colab": {
          "base_uri": "https://localhost:8080/"
        },
        "id": "FgUkjK9z9OL2",
        "outputId": "0bef8d8f-ee4b-4654-bd47-d430cea97791"
      },
      "execution_count": null,
      "outputs": [
        {
          "output_type": "stream",
          "name": "stdout",
          "text": [
            "0\n"
          ]
        }
      ]
    },
    {
      "cell_type": "code",
      "source": [
        "meangrowth=st.mean(Ch6data['growth'])\n",
        "print(meangrowth)"
      ],
      "metadata": {
        "colab": {
          "base_uri": "https://localhost:8080/"
        },
        "id": "Rq9lSAjr96AS",
        "outputId": "a5258648-c5e3-456b-f505-3746a20cf794"
      },
      "execution_count": null,
      "outputs": [
        {
          "output_type": "stream",
          "name": "stdout",
          "text": [
            "1.9427153966747797\n"
          ]
        }
      ]
    },
    {
      "cell_type": "code",
      "source": [
        "meangdp60= st.mean(Ch6data['rgdp60'])\n",
        "print(meangdp60)"
      ],
      "metadata": {
        "colab": {
          "base_uri": "https://localhost:8080/"
        },
        "id": "LV77q-GZ-s4K",
        "outputId": "985daa10-5281-47f7-e52a-5b9f90284377"
      },
      "execution_count": null,
      "outputs": [
        {
          "output_type": "stream",
          "name": "stdout",
          "text": [
            "3103.7846487192005\n"
          ]
        }
      ]
    },
    {
      "cell_type": "code",
      "source": [
        "meantradeshare = st.mean(Ch6data['tradeshare'])\n",
        "print(meantradeshare)"
      ],
      "metadata": {
        "colab": {
          "base_uri": "https://localhost:8080/"
        },
        "id": "9fLEmLlh-6s4",
        "outputId": "325e0587-b0ec-447d-ba94-7ea7a67c9d70"
      },
      "execution_count": null,
      "outputs": [
        {
          "output_type": "stream",
          "name": "stdout",
          "text": [
            "0.564703030540393\n"
          ]
        }
      ]
    },
    {
      "cell_type": "code",
      "source": [
        "meanyearsschool= st.mean(Ch6data['yearsschool'])\n",
        "print(meanyearsschool)"
      ],
      "metadata": {
        "colab": {
          "base_uri": "https://localhost:8080/"
        },
        "id": "nT27yYkM_Kqb",
        "outputId": "280776e0-1dbe-4f24-baf4-3aebb62f5809"
      },
      "execution_count": null,
      "outputs": [
        {
          "output_type": "stream",
          "name": "stdout",
          "text": [
            "3.9850769077356043\n"
          ]
        }
      ]
    },
    {
      "cell_type": "code",
      "source": [
        "meanrev_coups = st.mean(Ch6data['rev_coups'])\n",
        "print(meanrev_coups)"
      ],
      "metadata": {
        "colab": {
          "base_uri": "https://localhost:8080/"
        },
        "id": "zKq3aZSL_aH8",
        "outputId": "8df69df1-246a-4b7f-af9a-4df5d875b6d1"
      },
      "execution_count": null,
      "outputs": [
        {
          "output_type": "stream",
          "name": "stdout",
          "text": [
            "0.16745014528815563\n"
          ]
        }
      ]
    },
    {
      "cell_type": "code",
      "source": [
        "meansassassinations = st.mean(Ch6data['assasinations'])\n",
        "print(meansassassinations)"
      ],
      "metadata": {
        "colab": {
          "base_uri": "https://localhost:8080/"
        },
        "id": "Upr3KexvANwU",
        "outputId": "06aeb2e6-3893-4810-d3f7-a013c53a9436"
      },
      "execution_count": null,
      "outputs": [
        {
          "output_type": "stream",
          "name": "stdout",
          "text": [
            "0.27756410378676194\n"
          ]
        }
      ]
    },
    {
      "cell_type": "code",
      "source": [
        "sdrgdp60 = st.stdev (Ch6data['rgdp60'])\n",
        "print(sdrgdp60)"
      ],
      "metadata": {
        "colab": {
          "base_uri": "https://localhost:8080/"
        },
        "id": "RnQ_b6ekA14C",
        "outputId": "c8c712f0-1267-41e7-decc-df1dea5d985a"
      },
      "execution_count": null,
      "outputs": [
        {
          "output_type": "stream",
          "name": "stdout",
          "text": [
            "2512.6568457156595\n"
          ]
        }
      ]
    },
    {
      "cell_type": "code",
      "source": [
        "Part2=smf.ols(formula='growth~tradeshare+yearsschool+rev_coups+assasinations+rgdp60', data=Ch6data)\n",
        "Part2results=Part2.fit(cov_type='HC1')\n",
        "Part2results.summary()"
      ],
      "metadata": {
        "colab": {
          "base_uri": "https://localhost:8080/",
          "height": 572
        },
        "id": "xgXgFAXXDMOa",
        "outputId": "aec82857-14a4-44b9-b5b2-7faeeedad3a6"
      },
      "execution_count": null,
      "outputs": [
        {
          "output_type": "execute_result",
          "data": {
            "text/plain": [
              "<class 'statsmodels.iolib.summary.Summary'>\n",
              "\"\"\"\n",
              "                            OLS Regression Results                            \n",
              "==============================================================================\n",
              "Dep. Variable:                 growth   R-squared:                       0.359\n",
              "Model:                            OLS   Adj. R-squared:                  0.305\n",
              "Method:                 Least Squares   F-statistic:                     11.20\n",
              "Date:                Thu, 29 Feb 2024   Prob (F-statistic):           1.29e-07\n",
              "Time:                        18:11:10   Log-Likelihood:                -118.90\n",
              "No. Observations:                  65   AIC:                             249.8\n",
              "Df Residuals:                      59   BIC:                             262.8\n",
              "Df Model:                           5                                         \n",
              "Covariance Type:                  HC1                                         \n",
              "=================================================================================\n",
              "                    coef    std err          z      P>|z|      [0.025      0.975]\n",
              "---------------------------------------------------------------------------------\n",
              "Intercept         0.4898      0.738      0.664      0.507      -0.957       1.936\n",
              "tradeshare        1.5617      0.585      2.670      0.008       0.415       2.708\n",
              "yearsschool       0.5748      0.123      4.681      0.000       0.334       0.816\n",
              "rev_coups        -2.1575      0.878     -2.457      0.014      -3.879      -0.436\n",
              "assasinations     0.3541      0.365      0.969      0.333      -0.362       1.070\n",
              "rgdp60           -0.0005      0.000     -3.936      0.000      -0.001      -0.000\n",
              "==============================================================================\n",
              "Omnibus:                        7.463   Durbin-Watson:                   2.126\n",
              "Prob(Omnibus):                  0.024   Jarque-Bera (JB):                8.425\n",
              "Skew:                           0.487   Prob(JB):                       0.0148\n",
              "Kurtosis:                       4.470   Cond. No.                     2.46e+04\n",
              "==============================================================================\n",
              "\n",
              "Notes:\n",
              "[1] Standard Errors are heteroscedasticity robust (HC1)\n",
              "[2] The condition number is large, 2.46e+04. This might indicate that there are\n",
              "strong multicollinearity or other numerical problems.\n",
              "\"\"\""
            ],
            "text/html": [
              "<table class=\"simpletable\">\n",
              "<caption>OLS Regression Results</caption>\n",
              "<tr>\n",
              "  <th>Dep. Variable:</th>         <td>growth</td>      <th>  R-squared:         </th> <td>   0.359</td>\n",
              "</tr>\n",
              "<tr>\n",
              "  <th>Model:</th>                   <td>OLS</td>       <th>  Adj. R-squared:    </th> <td>   0.305</td>\n",
              "</tr>\n",
              "<tr>\n",
              "  <th>Method:</th>             <td>Least Squares</td>  <th>  F-statistic:       </th> <td>   11.20</td>\n",
              "</tr>\n",
              "<tr>\n",
              "  <th>Date:</th>             <td>Thu, 29 Feb 2024</td> <th>  Prob (F-statistic):</th> <td>1.29e-07</td>\n",
              "</tr>\n",
              "<tr>\n",
              "  <th>Time:</th>                 <td>18:11:10</td>     <th>  Log-Likelihood:    </th> <td> -118.90</td>\n",
              "</tr>\n",
              "<tr>\n",
              "  <th>No. Observations:</th>      <td>    65</td>      <th>  AIC:               </th> <td>   249.8</td>\n",
              "</tr>\n",
              "<tr>\n",
              "  <th>Df Residuals:</th>          <td>    59</td>      <th>  BIC:               </th> <td>   262.8</td>\n",
              "</tr>\n",
              "<tr>\n",
              "  <th>Df Model:</th>              <td>     5</td>      <th>                     </th>     <td> </td>   \n",
              "</tr>\n",
              "<tr>\n",
              "  <th>Covariance Type:</th>         <td>HC1</td>       <th>                     </th>     <td> </td>   \n",
              "</tr>\n",
              "</table>\n",
              "<table class=\"simpletable\">\n",
              "<tr>\n",
              "        <td></td>           <th>coef</th>     <th>std err</th>      <th>z</th>      <th>P>|z|</th>  <th>[0.025</th>    <th>0.975]</th>  \n",
              "</tr>\n",
              "<tr>\n",
              "  <th>Intercept</th>     <td>    0.4898</td> <td>    0.738</td> <td>    0.664</td> <td> 0.507</td> <td>   -0.957</td> <td>    1.936</td>\n",
              "</tr>\n",
              "<tr>\n",
              "  <th>tradeshare</th>    <td>    1.5617</td> <td>    0.585</td> <td>    2.670</td> <td> 0.008</td> <td>    0.415</td> <td>    2.708</td>\n",
              "</tr>\n",
              "<tr>\n",
              "  <th>yearsschool</th>   <td>    0.5748</td> <td>    0.123</td> <td>    4.681</td> <td> 0.000</td> <td>    0.334</td> <td>    0.816</td>\n",
              "</tr>\n",
              "<tr>\n",
              "  <th>rev_coups</th>     <td>   -2.1575</td> <td>    0.878</td> <td>   -2.457</td> <td> 0.014</td> <td>   -3.879</td> <td>   -0.436</td>\n",
              "</tr>\n",
              "<tr>\n",
              "  <th>assasinations</th> <td>    0.3541</td> <td>    0.365</td> <td>    0.969</td> <td> 0.333</td> <td>   -0.362</td> <td>    1.070</td>\n",
              "</tr>\n",
              "<tr>\n",
              "  <th>rgdp60</th>        <td>   -0.0005</td> <td>    0.000</td> <td>   -3.936</td> <td> 0.000</td> <td>   -0.001</td> <td>   -0.000</td>\n",
              "</tr>\n",
              "</table>\n",
              "<table class=\"simpletable\">\n",
              "<tr>\n",
              "  <th>Omnibus:</th>       <td> 7.463</td> <th>  Durbin-Watson:     </th> <td>   2.126</td>\n",
              "</tr>\n",
              "<tr>\n",
              "  <th>Prob(Omnibus):</th> <td> 0.024</td> <th>  Jarque-Bera (JB):  </th> <td>   8.425</td>\n",
              "</tr>\n",
              "<tr>\n",
              "  <th>Skew:</th>          <td> 0.487</td> <th>  Prob(JB):          </th> <td>  0.0148</td>\n",
              "</tr>\n",
              "<tr>\n",
              "  <th>Kurtosis:</th>      <td> 4.470</td> <th>  Cond. No.          </th> <td>2.46e+04</td>\n",
              "</tr>\n",
              "</table><br/><br/>Notes:<br/>[1] Standard Errors are heteroscedasticity robust (HC1)<br/>[2] The condition number is large, 2.46e+04. This might indicate that there are<br/>strong multicollinearity or other numerical problems."
            ],
            "text/latex": "\\begin{center}\n\\begin{tabular}{lclc}\n\\toprule\n\\textbf{Dep. Variable:}    &      growth      & \\textbf{  R-squared:         } &     0.359   \\\\\n\\textbf{Model:}            &       OLS        & \\textbf{  Adj. R-squared:    } &     0.305   \\\\\n\\textbf{Method:}           &  Least Squares   & \\textbf{  F-statistic:       } &     11.20   \\\\\n\\textbf{Date:}             & Thu, 29 Feb 2024 & \\textbf{  Prob (F-statistic):} &  1.29e-07   \\\\\n\\textbf{Time:}             &     18:11:10     & \\textbf{  Log-Likelihood:    } &   -118.90   \\\\\n\\textbf{No. Observations:} &          65      & \\textbf{  AIC:               } &     249.8   \\\\\n\\textbf{Df Residuals:}     &          59      & \\textbf{  BIC:               } &     262.8   \\\\\n\\textbf{Df Model:}         &           5      & \\textbf{                     } &             \\\\\n\\textbf{Covariance Type:}  &       HC1        & \\textbf{                     } &             \\\\\n\\bottomrule\n\\end{tabular}\n\\begin{tabular}{lcccccc}\n                       & \\textbf{coef} & \\textbf{std err} & \\textbf{z} & \\textbf{P$> |$z$|$} & \\textbf{[0.025} & \\textbf{0.975]}  \\\\\n\\midrule\n\\textbf{Intercept}     &       0.4898  &        0.738     &     0.664  &         0.507        &       -0.957    &        1.936     \\\\\n\\textbf{tradeshare}    &       1.5617  &        0.585     &     2.670  &         0.008        &        0.415    &        2.708     \\\\\n\\textbf{yearsschool}   &       0.5748  &        0.123     &     4.681  &         0.000        &        0.334    &        0.816     \\\\\n\\textbf{rev\\_coups}    &      -2.1575  &        0.878     &    -2.457  &         0.014        &       -3.879    &       -0.436     \\\\\n\\textbf{assasinations} &       0.3541  &        0.365     &     0.969  &         0.333        &       -0.362    &        1.070     \\\\\n\\textbf{rgdp60}        &      -0.0005  &        0.000     &    -3.936  &         0.000        &       -0.001    &       -0.000     \\\\\n\\bottomrule\n\\end{tabular}\n\\begin{tabular}{lclc}\n\\textbf{Omnibus:}       &  7.463 & \\textbf{  Durbin-Watson:     } &    2.126  \\\\\n\\textbf{Prob(Omnibus):} &  0.024 & \\textbf{  Jarque-Bera (JB):  } &    8.425  \\\\\n\\textbf{Skew:}          &  0.487 & \\textbf{  Prob(JB):          } &   0.0148  \\\\\n\\textbf{Kurtosis:}      &  4.470 & \\textbf{  Cond. No.          } & 2.46e+04  \\\\\n\\bottomrule\n\\end{tabular}\n%\\caption{OLS Regression Results}\n\\end{center}\n\nNotes: \\newline\n [1] Standard Errors are heteroscedasticity robust (HC1) \\newline\n [2] The condition number is large, 2.46e+04. This might indicate that there are \\newline\n strong multicollinearity or other numerical problems."
          },
          "metadata": {},
          "execution_count": 47
        }
      ]
    },
    {
      "cell_type": "code",
      "source": [
        "growthfitmean = 0.4898+1.5617*meantradeshare+0.5748*meanyearsschool-2.1575*meanrev_coups+0.3541*meansassassinations-0.0005*meangdp60\n",
        "growthfitmean"
      ],
      "metadata": {
        "colab": {
          "base_uri": "https://localhost:8080/"
        },
        "id": "fPPrUjEUE7Hm",
        "outputId": "e0b46ad3-9f24-40ca-a97c-1a5c70465b23"
      },
      "execution_count": null,
      "outputs": [
        {
          "output_type": "execute_result",
          "data": {
            "text/plain": [
              "1.8474383656934525"
            ]
          },
          "metadata": {},
          "execution_count": 59
        }
      ]
    },
    {
      "cell_type": "code",
      "source": [
        "growthfitmean2 = 0.4898+1.5617*meantradeshare+0.5748*(meanyearsschool+st.stdev(Ch6data['yearsschool']))-2.1575*meanrev_coups+0.3541*meansassassinations-0.0005*meangdp60\n",
        "growthfitmean2"
      ],
      "metadata": {
        "colab": {
          "base_uri": "https://localhost:8080/"
        },
        "id": "Kg7JS_RMFuQo",
        "outputId": "cb3b4744-90f8-475a-fcf4-fdcbd31fd1a0"
      },
      "execution_count": null,
      "outputs": [
        {
          "output_type": "execute_result",
          "data": {
            "text/plain": [
              "3.3085801720942793"
            ]
          },
          "metadata": {},
          "execution_count": 64
        }
      ]
    },
    {
      "cell_type": "code",
      "source": [
        "datanoout=Ch6data.drop([64,0])\n",
        "datanoout"
      ],
      "metadata": {
        "colab": {
          "base_uri": "https://localhost:8080/",
          "height": 444
        },
        "id": "VLilO6FmIHfk",
        "outputId": "a7f89f36-e35d-4962-f830-963ee859ba5e"
      },
      "execution_count": null,
      "outputs": [
        {
          "output_type": "execute_result",
          "data": {
            "text/plain": [
              "     country_name    growth  oil       rgdp60  tradeshare  yearsschool  \\\n",
              "1       Argentina  0.617645    0  4462.001465    0.156623         4.99   \n",
              "2           Japan  4.304759    0  2953.999512    0.157703         6.71   \n",
              "3          Brazil  2.930097    0  1783.999878    0.160405         2.89   \n",
              "4   United States  1.712265    0  9895.003906    0.160815         8.66   \n",
              "5      Bangladesh  0.708263    0   951.999817    0.221458         0.79   \n",
              "..            ...       ...  ...          ...         ...          ...   \n",
              "59    Netherlands  2.200577    0  6076.997070    0.834204         5.27   \n",
              "60         Cyprus  5.384184    0  2037.000366    0.979355         4.29   \n",
              "61       Malaysia  4.114544    0  1420.000244    1.105364         2.34   \n",
              "62        Belgium  2.651335    0  5495.001953    1.115917         7.46   \n",
              "63      Mauritius  3.024178    0  2861.999268    1.127937         2.44   \n",
              "\n",
              "    rev_coups  assasinations  \n",
              "1    0.933333       1.933333  \n",
              "2    0.000000       0.200000  \n",
              "3    0.100000       0.100000  \n",
              "4    0.000000       0.433333  \n",
              "5    0.306481       0.175000  \n",
              "..        ...            ...  \n",
              "59   0.000000       0.000000  \n",
              "60   0.100000       0.166667  \n",
              "61   0.033333       0.033333  \n",
              "62   0.000000       0.000000  \n",
              "63   0.000000       0.000000  \n",
              "\n",
              "[63 rows x 8 columns]"
            ],
            "text/html": [
              "\n",
              "  <div id=\"df-0900a7be-943e-4710-b584-314a0da2e700\" class=\"colab-df-container\">\n",
              "    <div>\n",
              "<style scoped>\n",
              "    .dataframe tbody tr th:only-of-type {\n",
              "        vertical-align: middle;\n",
              "    }\n",
              "\n",
              "    .dataframe tbody tr th {\n",
              "        vertical-align: top;\n",
              "    }\n",
              "\n",
              "    .dataframe thead th {\n",
              "        text-align: right;\n",
              "    }\n",
              "</style>\n",
              "<table border=\"1\" class=\"dataframe\">\n",
              "  <thead>\n",
              "    <tr style=\"text-align: right;\">\n",
              "      <th></th>\n",
              "      <th>country_name</th>\n",
              "      <th>growth</th>\n",
              "      <th>oil</th>\n",
              "      <th>rgdp60</th>\n",
              "      <th>tradeshare</th>\n",
              "      <th>yearsschool</th>\n",
              "      <th>rev_coups</th>\n",
              "      <th>assasinations</th>\n",
              "    </tr>\n",
              "  </thead>\n",
              "  <tbody>\n",
              "    <tr>\n",
              "      <th>1</th>\n",
              "      <td>Argentina</td>\n",
              "      <td>0.617645</td>\n",
              "      <td>0</td>\n",
              "      <td>4462.001465</td>\n",
              "      <td>0.156623</td>\n",
              "      <td>4.99</td>\n",
              "      <td>0.933333</td>\n",
              "      <td>1.933333</td>\n",
              "    </tr>\n",
              "    <tr>\n",
              "      <th>2</th>\n",
              "      <td>Japan</td>\n",
              "      <td>4.304759</td>\n",
              "      <td>0</td>\n",
              "      <td>2953.999512</td>\n",
              "      <td>0.157703</td>\n",
              "      <td>6.71</td>\n",
              "      <td>0.000000</td>\n",
              "      <td>0.200000</td>\n",
              "    </tr>\n",
              "    <tr>\n",
              "      <th>3</th>\n",
              "      <td>Brazil</td>\n",
              "      <td>2.930097</td>\n",
              "      <td>0</td>\n",
              "      <td>1783.999878</td>\n",
              "      <td>0.160405</td>\n",
              "      <td>2.89</td>\n",
              "      <td>0.100000</td>\n",
              "      <td>0.100000</td>\n",
              "    </tr>\n",
              "    <tr>\n",
              "      <th>4</th>\n",
              "      <td>United States</td>\n",
              "      <td>1.712265</td>\n",
              "      <td>0</td>\n",
              "      <td>9895.003906</td>\n",
              "      <td>0.160815</td>\n",
              "      <td>8.66</td>\n",
              "      <td>0.000000</td>\n",
              "      <td>0.433333</td>\n",
              "    </tr>\n",
              "    <tr>\n",
              "      <th>5</th>\n",
              "      <td>Bangladesh</td>\n",
              "      <td>0.708263</td>\n",
              "      <td>0</td>\n",
              "      <td>951.999817</td>\n",
              "      <td>0.221458</td>\n",
              "      <td>0.79</td>\n",
              "      <td>0.306481</td>\n",
              "      <td>0.175000</td>\n",
              "    </tr>\n",
              "    <tr>\n",
              "      <th>...</th>\n",
              "      <td>...</td>\n",
              "      <td>...</td>\n",
              "      <td>...</td>\n",
              "      <td>...</td>\n",
              "      <td>...</td>\n",
              "      <td>...</td>\n",
              "      <td>...</td>\n",
              "      <td>...</td>\n",
              "    </tr>\n",
              "    <tr>\n",
              "      <th>59</th>\n",
              "      <td>Netherlands</td>\n",
              "      <td>2.200577</td>\n",
              "      <td>0</td>\n",
              "      <td>6076.997070</td>\n",
              "      <td>0.834204</td>\n",
              "      <td>5.27</td>\n",
              "      <td>0.000000</td>\n",
              "      <td>0.000000</td>\n",
              "    </tr>\n",
              "    <tr>\n",
              "      <th>60</th>\n",
              "      <td>Cyprus</td>\n",
              "      <td>5.384184</td>\n",
              "      <td>0</td>\n",
              "      <td>2037.000366</td>\n",
              "      <td>0.979355</td>\n",
              "      <td>4.29</td>\n",
              "      <td>0.100000</td>\n",
              "      <td>0.166667</td>\n",
              "    </tr>\n",
              "    <tr>\n",
              "      <th>61</th>\n",
              "      <td>Malaysia</td>\n",
              "      <td>4.114544</td>\n",
              "      <td>0</td>\n",
              "      <td>1420.000244</td>\n",
              "      <td>1.105364</td>\n",
              "      <td>2.34</td>\n",
              "      <td>0.033333</td>\n",
              "      <td>0.033333</td>\n",
              "    </tr>\n",
              "    <tr>\n",
              "      <th>62</th>\n",
              "      <td>Belgium</td>\n",
              "      <td>2.651335</td>\n",
              "      <td>0</td>\n",
              "      <td>5495.001953</td>\n",
              "      <td>1.115917</td>\n",
              "      <td>7.46</td>\n",
              "      <td>0.000000</td>\n",
              "      <td>0.000000</td>\n",
              "    </tr>\n",
              "    <tr>\n",
              "      <th>63</th>\n",
              "      <td>Mauritius</td>\n",
              "      <td>3.024178</td>\n",
              "      <td>0</td>\n",
              "      <td>2861.999268</td>\n",
              "      <td>1.127937</td>\n",
              "      <td>2.44</td>\n",
              "      <td>0.000000</td>\n",
              "      <td>0.000000</td>\n",
              "    </tr>\n",
              "  </tbody>\n",
              "</table>\n",
              "<p>63 rows × 8 columns</p>\n",
              "</div>\n",
              "    <div class=\"colab-df-buttons\">\n",
              "\n",
              "  <div class=\"colab-df-container\">\n",
              "    <button class=\"colab-df-convert\" onclick=\"convertToInteractive('df-0900a7be-943e-4710-b584-314a0da2e700')\"\n",
              "            title=\"Convert this dataframe to an interactive table.\"\n",
              "            style=\"display:none;\">\n",
              "\n",
              "  <svg xmlns=\"http://www.w3.org/2000/svg\" height=\"24px\" viewBox=\"0 -960 960 960\">\n",
              "    <path d=\"M120-120v-720h720v720H120Zm60-500h600v-160H180v160Zm220 220h160v-160H400v160Zm0 220h160v-160H400v160ZM180-400h160v-160H180v160Zm440 0h160v-160H620v160ZM180-180h160v-160H180v160Zm440 0h160v-160H620v160Z\"/>\n",
              "  </svg>\n",
              "    </button>\n",
              "\n",
              "  <style>\n",
              "    .colab-df-container {\n",
              "      display:flex;\n",
              "      gap: 12px;\n",
              "    }\n",
              "\n",
              "    .colab-df-convert {\n",
              "      background-color: #E8F0FE;\n",
              "      border: none;\n",
              "      border-radius: 50%;\n",
              "      cursor: pointer;\n",
              "      display: none;\n",
              "      fill: #1967D2;\n",
              "      height: 32px;\n",
              "      padding: 0 0 0 0;\n",
              "      width: 32px;\n",
              "    }\n",
              "\n",
              "    .colab-df-convert:hover {\n",
              "      background-color: #E2EBFA;\n",
              "      box-shadow: 0px 1px 2px rgba(60, 64, 67, 0.3), 0px 1px 3px 1px rgba(60, 64, 67, 0.15);\n",
              "      fill: #174EA6;\n",
              "    }\n",
              "\n",
              "    .colab-df-buttons div {\n",
              "      margin-bottom: 4px;\n",
              "    }\n",
              "\n",
              "    [theme=dark] .colab-df-convert {\n",
              "      background-color: #3B4455;\n",
              "      fill: #D2E3FC;\n",
              "    }\n",
              "\n",
              "    [theme=dark] .colab-df-convert:hover {\n",
              "      background-color: #434B5C;\n",
              "      box-shadow: 0px 1px 3px 1px rgba(0, 0, 0, 0.15);\n",
              "      filter: drop-shadow(0px 1px 2px rgba(0, 0, 0, 0.3));\n",
              "      fill: #FFFFFF;\n",
              "    }\n",
              "  </style>\n",
              "\n",
              "    <script>\n",
              "      const buttonEl =\n",
              "        document.querySelector('#df-0900a7be-943e-4710-b584-314a0da2e700 button.colab-df-convert');\n",
              "      buttonEl.style.display =\n",
              "        google.colab.kernel.accessAllowed ? 'block' : 'none';\n",
              "\n",
              "      async function convertToInteractive(key) {\n",
              "        const element = document.querySelector('#df-0900a7be-943e-4710-b584-314a0da2e700');\n",
              "        const dataTable =\n",
              "          await google.colab.kernel.invokeFunction('convertToInteractive',\n",
              "                                                    [key], {});\n",
              "        if (!dataTable) return;\n",
              "\n",
              "        const docLinkHtml = 'Like what you see? Visit the ' +\n",
              "          '<a target=\"_blank\" href=https://colab.research.google.com/notebooks/data_table.ipynb>data table notebook</a>'\n",
              "          + ' to learn more about interactive tables.';\n",
              "        element.innerHTML = '';\n",
              "        dataTable['output_type'] = 'display_data';\n",
              "        await google.colab.output.renderOutput(dataTable, element);\n",
              "        const docLink = document.createElement('div');\n",
              "        docLink.innerHTML = docLinkHtml;\n",
              "        element.appendChild(docLink);\n",
              "      }\n",
              "    </script>\n",
              "  </div>\n",
              "\n",
              "\n",
              "<div id=\"df-87410ec3-ec4b-4522-b6b8-3e8b0a749161\">\n",
              "  <button class=\"colab-df-quickchart\" onclick=\"quickchart('df-87410ec3-ec4b-4522-b6b8-3e8b0a749161')\"\n",
              "            title=\"Suggest charts\"\n",
              "            style=\"display:none;\">\n",
              "\n",
              "<svg xmlns=\"http://www.w3.org/2000/svg\" height=\"24px\"viewBox=\"0 0 24 24\"\n",
              "     width=\"24px\">\n",
              "    <g>\n",
              "        <path d=\"M19 3H5c-1.1 0-2 .9-2 2v14c0 1.1.9 2 2 2h14c1.1 0 2-.9 2-2V5c0-1.1-.9-2-2-2zM9 17H7v-7h2v7zm4 0h-2V7h2v10zm4 0h-2v-4h2v4z\"/>\n",
              "    </g>\n",
              "</svg>\n",
              "  </button>\n",
              "\n",
              "<style>\n",
              "  .colab-df-quickchart {\n",
              "      --bg-color: #E8F0FE;\n",
              "      --fill-color: #1967D2;\n",
              "      --hover-bg-color: #E2EBFA;\n",
              "      --hover-fill-color: #174EA6;\n",
              "      --disabled-fill-color: #AAA;\n",
              "      --disabled-bg-color: #DDD;\n",
              "  }\n",
              "\n",
              "  [theme=dark] .colab-df-quickchart {\n",
              "      --bg-color: #3B4455;\n",
              "      --fill-color: #D2E3FC;\n",
              "      --hover-bg-color: #434B5C;\n",
              "      --hover-fill-color: #FFFFFF;\n",
              "      --disabled-bg-color: #3B4455;\n",
              "      --disabled-fill-color: #666;\n",
              "  }\n",
              "\n",
              "  .colab-df-quickchart {\n",
              "    background-color: var(--bg-color);\n",
              "    border: none;\n",
              "    border-radius: 50%;\n",
              "    cursor: pointer;\n",
              "    display: none;\n",
              "    fill: var(--fill-color);\n",
              "    height: 32px;\n",
              "    padding: 0;\n",
              "    width: 32px;\n",
              "  }\n",
              "\n",
              "  .colab-df-quickchart:hover {\n",
              "    background-color: var(--hover-bg-color);\n",
              "    box-shadow: 0 1px 2px rgba(60, 64, 67, 0.3), 0 1px 3px 1px rgba(60, 64, 67, 0.15);\n",
              "    fill: var(--button-hover-fill-color);\n",
              "  }\n",
              "\n",
              "  .colab-df-quickchart-complete:disabled,\n",
              "  .colab-df-quickchart-complete:disabled:hover {\n",
              "    background-color: var(--disabled-bg-color);\n",
              "    fill: var(--disabled-fill-color);\n",
              "    box-shadow: none;\n",
              "  }\n",
              "\n",
              "  .colab-df-spinner {\n",
              "    border: 2px solid var(--fill-color);\n",
              "    border-color: transparent;\n",
              "    border-bottom-color: var(--fill-color);\n",
              "    animation:\n",
              "      spin 1s steps(1) infinite;\n",
              "  }\n",
              "\n",
              "  @keyframes spin {\n",
              "    0% {\n",
              "      border-color: transparent;\n",
              "      border-bottom-color: var(--fill-color);\n",
              "      border-left-color: var(--fill-color);\n",
              "    }\n",
              "    20% {\n",
              "      border-color: transparent;\n",
              "      border-left-color: var(--fill-color);\n",
              "      border-top-color: var(--fill-color);\n",
              "    }\n",
              "    30% {\n",
              "      border-color: transparent;\n",
              "      border-left-color: var(--fill-color);\n",
              "      border-top-color: var(--fill-color);\n",
              "      border-right-color: var(--fill-color);\n",
              "    }\n",
              "    40% {\n",
              "      border-color: transparent;\n",
              "      border-right-color: var(--fill-color);\n",
              "      border-top-color: var(--fill-color);\n",
              "    }\n",
              "    60% {\n",
              "      border-color: transparent;\n",
              "      border-right-color: var(--fill-color);\n",
              "    }\n",
              "    80% {\n",
              "      border-color: transparent;\n",
              "      border-right-color: var(--fill-color);\n",
              "      border-bottom-color: var(--fill-color);\n",
              "    }\n",
              "    90% {\n",
              "      border-color: transparent;\n",
              "      border-bottom-color: var(--fill-color);\n",
              "    }\n",
              "  }\n",
              "</style>\n",
              "\n",
              "  <script>\n",
              "    async function quickchart(key) {\n",
              "      const quickchartButtonEl =\n",
              "        document.querySelector('#' + key + ' button');\n",
              "      quickchartButtonEl.disabled = true;  // To prevent multiple clicks.\n",
              "      quickchartButtonEl.classList.add('colab-df-spinner');\n",
              "      try {\n",
              "        const charts = await google.colab.kernel.invokeFunction(\n",
              "            'suggestCharts', [key], {});\n",
              "      } catch (error) {\n",
              "        console.error('Error during call to suggestCharts:', error);\n",
              "      }\n",
              "      quickchartButtonEl.classList.remove('colab-df-spinner');\n",
              "      quickchartButtonEl.classList.add('colab-df-quickchart-complete');\n",
              "    }\n",
              "    (() => {\n",
              "      let quickchartButtonEl =\n",
              "        document.querySelector('#df-87410ec3-ec4b-4522-b6b8-3e8b0a749161 button');\n",
              "      quickchartButtonEl.style.display =\n",
              "        google.colab.kernel.accessAllowed ? 'block' : 'none';\n",
              "    })();\n",
              "  </script>\n",
              "</div>\n",
              "\n",
              "  <div id=\"id_87baf895-e137-47c9-aa81-85c73f8c65e4\">\n",
              "    <style>\n",
              "      .colab-df-generate {\n",
              "        background-color: #E8F0FE;\n",
              "        border: none;\n",
              "        border-radius: 50%;\n",
              "        cursor: pointer;\n",
              "        display: none;\n",
              "        fill: #1967D2;\n",
              "        height: 32px;\n",
              "        padding: 0 0 0 0;\n",
              "        width: 32px;\n",
              "      }\n",
              "\n",
              "      .colab-df-generate:hover {\n",
              "        background-color: #E2EBFA;\n",
              "        box-shadow: 0px 1px 2px rgba(60, 64, 67, 0.3), 0px 1px 3px 1px rgba(60, 64, 67, 0.15);\n",
              "        fill: #174EA6;\n",
              "      }\n",
              "\n",
              "      [theme=dark] .colab-df-generate {\n",
              "        background-color: #3B4455;\n",
              "        fill: #D2E3FC;\n",
              "      }\n",
              "\n",
              "      [theme=dark] .colab-df-generate:hover {\n",
              "        background-color: #434B5C;\n",
              "        box-shadow: 0px 1px 3px 1px rgba(0, 0, 0, 0.15);\n",
              "        filter: drop-shadow(0px 1px 2px rgba(0, 0, 0, 0.3));\n",
              "        fill: #FFFFFF;\n",
              "      }\n",
              "    </style>\n",
              "    <button class=\"colab-df-generate\" onclick=\"generateWithVariable('datanoout')\"\n",
              "            title=\"Generate code using this dataframe.\"\n",
              "            style=\"display:none;\">\n",
              "\n",
              "  <svg xmlns=\"http://www.w3.org/2000/svg\" height=\"24px\"viewBox=\"0 0 24 24\"\n",
              "       width=\"24px\">\n",
              "    <path d=\"M7,19H8.4L18.45,9,17,7.55,7,17.6ZM5,21V16.75L18.45,3.32a2,2,0,0,1,2.83,0l1.4,1.43a1.91,1.91,0,0,1,.58,1.4,1.91,1.91,0,0,1-.58,1.4L9.25,21ZM18.45,9,17,7.55Zm-12,3A5.31,5.31,0,0,0,4.9,8.1,5.31,5.31,0,0,0,1,6.5,5.31,5.31,0,0,0,4.9,4.9,5.31,5.31,0,0,0,6.5,1,5.31,5.31,0,0,0,8.1,4.9,5.31,5.31,0,0,0,12,6.5,5.46,5.46,0,0,0,6.5,12Z\"/>\n",
              "  </svg>\n",
              "    </button>\n",
              "    <script>\n",
              "      (() => {\n",
              "      const buttonEl =\n",
              "        document.querySelector('#id_87baf895-e137-47c9-aa81-85c73f8c65e4 button.colab-df-generate');\n",
              "      buttonEl.style.display =\n",
              "        google.colab.kernel.accessAllowed ? 'block' : 'none';\n",
              "\n",
              "      buttonEl.onclick = () => {\n",
              "        google.colab.notebook.generateWithVariable('datanoout');\n",
              "      }\n",
              "      })();\n",
              "    </script>\n",
              "  </div>\n",
              "\n",
              "    </div>\n",
              "  </div>\n"
            ],
            "application/vnd.google.colaboratory.intrinsic+json": {
              "type": "dataframe",
              "variable_name": "datanoout",
              "summary": "{\n  \"name\": \"datanoout\",\n  \"rows\": 63,\n  \"fields\": [\n    {\n      \"column\": \"country_name\",\n      \"properties\": {\n        \"dtype\": \"string\",\n        \"num_unique_values\": 63,\n        \"samples\": [\n          \"Belgium\",\n          \"Jamaica\",\n          \"Argentina\"\n        ],\n        \"semantic_type\": \"\",\n        \"description\": \"\"\n      }\n    },\n    {\n      \"column\": \"growth\",\n      \"properties\": {\n        \"dtype\": \"number\",\n        \"std\": 1.8307675361270466,\n        \"min\": -2.8119444847106934,\n        \"max\": 7.156854629516602,\n        \"num_unique_values\": 63,\n        \"samples\": [\n          2.651334524154663,\n          0.41779017448425293,\n          0.6176450848579407\n        ],\n        \"semantic_type\": \"\",\n        \"description\": \"\"\n      }\n    },\n    {\n      \"column\": \"oil\",\n      \"properties\": {\n        \"dtype\": \"number\",\n        \"std\": 0,\n        \"min\": 0,\n        \"max\": 0,\n        \"num_unique_values\": 1,\n        \"samples\": [\n          0\n        ],\n        \"semantic_type\": \"\",\n        \"description\": \"\"\n      }\n    },\n    {\n      \"column\": \"rgdp60\",\n      \"properties\": {\n        \"dtype\": \"number\",\n        \"std\": 2525.1650515518245,\n        \"min\": 366.99993896484375,\n        \"max\": 9895.00390625,\n        \"num_unique_values\": 63,\n        \"samples\": [\n          5495.001953125\n        ],\n        \"semantic_type\": \"\",\n        \"description\": \"\"\n      }\n    },\n    {\n      \"column\": \"tradeshare\",\n      \"properties\": {\n        \"dtype\": \"number\",\n        \"std\": 0.2243440643017366,\n        \"min\": 0.156622976064682,\n        \"max\": 1.1279369592666626,\n        \"num_unique_values\": 63,\n        \"samples\": [\n          1.1159169673919678\n        ],\n        \"semantic_type\": \"\",\n        \"description\": \"\"\n      }\n    },\n    {\n      \"column\": \"yearsschool\",\n      \"properties\": {\n        \"dtype\": \"number\",\n        \"std\": 2.5538564506979995,\n        \"min\": 0.20000000298023224,\n        \"max\": 10.069999694824219,\n        \"num_unique_values\": 61,\n        \"samples\": [\n          4.989999771118164\n        ],\n        \"semantic_type\": \"\",\n        \"description\": \"\"\n      }\n    },\n    {\n      \"column\": \"rev_coups\",\n      \"properties\": {\n        \"dtype\": \"number\",\n        \"std\": 0.2272179429191834,\n        \"min\": 0.0,\n        \"max\": 0.970370352268219,\n        \"num_unique_values\": 23,\n        \"samples\": [\n          0.6333333253860474\n        ],\n        \"semantic_type\": \"\",\n        \"description\": \"\"\n      }\n    },\n    {\n      \"column\": \"assasinations\",\n      \"properties\": {\n        \"dtype\": \"number\",\n        \"std\": 0.4924721670831825,\n        \"min\": 0.0,\n        \"max\": 2.4666666984558105,\n        \"num_unique_values\": 25,\n        \"samples\": [\n          0.06666667014360428\n        ],\n        \"semantic_type\": \"\",\n        \"description\": \"\"\n      }\n    }\n  ]\n}"
            }
          },
          "metadata": {},
          "execution_count": 65
        }
      ]
    },
    {
      "cell_type": "code",
      "source": [
        "Part6=smf.ols(formula='growth~tradeshare+yearsschool+rev_coups+assasinations+rgdp60', data=datanoout)\n",
        "Part6results=Part6.fit(cov_type='HC1')\n",
        "Part6results.summary()"
      ],
      "metadata": {
        "colab": {
          "base_uri": "https://localhost:8080/",
          "height": 572
        },
        "id": "PQ-mq0lzIYSA",
        "outputId": "7830d557-b4ac-488e-963a-18947fea6da9"
      },
      "execution_count": null,
      "outputs": [
        {
          "output_type": "execute_result",
          "data": {
            "text/plain": [
              "<class 'statsmodels.iolib.summary.Summary'>\n",
              "\"\"\"\n",
              "                            OLS Regression Results                            \n",
              "==============================================================================\n",
              "Dep. Variable:                 growth   R-squared:                       0.293\n",
              "Model:                            OLS   Adj. R-squared:                  0.231\n",
              "Method:                 Least Squares   F-statistic:                     6.933\n",
              "Date:                Thu, 29 Feb 2024   Prob (F-statistic):           4.06e-05\n",
              "Time:                        18:33:10   Log-Likelihood:                -116.05\n",
              "No. Observations:                  63   AIC:                             244.1\n",
              "Df Residuals:                      57   BIC:                             257.0\n",
              "Df Model:                           5                                         \n",
              "Covariance Type:                  HC1                                         \n",
              "=================================================================================\n",
              "                    coef    std err          z      P>|z|      [0.025      0.975]\n",
              "---------------------------------------------------------------------------------\n",
              "Intercept         0.5257      0.937      0.561      0.575      -1.311       2.363\n",
              "tradeshare        1.4395      0.938      1.534      0.125      -0.399       3.278\n",
              "yearsschool       0.5659      0.130      4.339      0.000       0.310       0.821\n",
              "rev_coups        -2.0544      0.917     -2.239      0.025      -3.853      -0.256\n",
              "assasinations     0.2936      0.379      0.775      0.438      -0.449       1.036\n",
              "rgdp60           -0.0005      0.000     -3.681      0.000      -0.001      -0.000\n",
              "==============================================================================\n",
              "Omnibus:                        7.584   Durbin-Watson:                   2.130\n",
              "Prob(Omnibus):                  0.023   Jarque-Bera (JB):                8.265\n",
              "Skew:                           0.523   Prob(JB):                       0.0160\n",
              "Kurtosis:                       4.434   Cond. No.                     2.71e+04\n",
              "==============================================================================\n",
              "\n",
              "Notes:\n",
              "[1] Standard Errors are heteroscedasticity robust (HC1)\n",
              "[2] The condition number is large, 2.71e+04. This might indicate that there are\n",
              "strong multicollinearity or other numerical problems.\n",
              "\"\"\""
            ],
            "text/html": [
              "<table class=\"simpletable\">\n",
              "<caption>OLS Regression Results</caption>\n",
              "<tr>\n",
              "  <th>Dep. Variable:</th>         <td>growth</td>      <th>  R-squared:         </th> <td>   0.293</td>\n",
              "</tr>\n",
              "<tr>\n",
              "  <th>Model:</th>                   <td>OLS</td>       <th>  Adj. R-squared:    </th> <td>   0.231</td>\n",
              "</tr>\n",
              "<tr>\n",
              "  <th>Method:</th>             <td>Least Squares</td>  <th>  F-statistic:       </th> <td>   6.933</td>\n",
              "</tr>\n",
              "<tr>\n",
              "  <th>Date:</th>             <td>Thu, 29 Feb 2024</td> <th>  Prob (F-statistic):</th> <td>4.06e-05</td>\n",
              "</tr>\n",
              "<tr>\n",
              "  <th>Time:</th>                 <td>18:33:10</td>     <th>  Log-Likelihood:    </th> <td> -116.05</td>\n",
              "</tr>\n",
              "<tr>\n",
              "  <th>No. Observations:</th>      <td>    63</td>      <th>  AIC:               </th> <td>   244.1</td>\n",
              "</tr>\n",
              "<tr>\n",
              "  <th>Df Residuals:</th>          <td>    57</td>      <th>  BIC:               </th> <td>   257.0</td>\n",
              "</tr>\n",
              "<tr>\n",
              "  <th>Df Model:</th>              <td>     5</td>      <th>                     </th>     <td> </td>   \n",
              "</tr>\n",
              "<tr>\n",
              "  <th>Covariance Type:</th>         <td>HC1</td>       <th>                     </th>     <td> </td>   \n",
              "</tr>\n",
              "</table>\n",
              "<table class=\"simpletable\">\n",
              "<tr>\n",
              "        <td></td>           <th>coef</th>     <th>std err</th>      <th>z</th>      <th>P>|z|</th>  <th>[0.025</th>    <th>0.975]</th>  \n",
              "</tr>\n",
              "<tr>\n",
              "  <th>Intercept</th>     <td>    0.5257</td> <td>    0.937</td> <td>    0.561</td> <td> 0.575</td> <td>   -1.311</td> <td>    2.363</td>\n",
              "</tr>\n",
              "<tr>\n",
              "  <th>tradeshare</th>    <td>    1.4395</td> <td>    0.938</td> <td>    1.534</td> <td> 0.125</td> <td>   -0.399</td> <td>    3.278</td>\n",
              "</tr>\n",
              "<tr>\n",
              "  <th>yearsschool</th>   <td>    0.5659</td> <td>    0.130</td> <td>    4.339</td> <td> 0.000</td> <td>    0.310</td> <td>    0.821</td>\n",
              "</tr>\n",
              "<tr>\n",
              "  <th>rev_coups</th>     <td>   -2.0544</td> <td>    0.917</td> <td>   -2.239</td> <td> 0.025</td> <td>   -3.853</td> <td>   -0.256</td>\n",
              "</tr>\n",
              "<tr>\n",
              "  <th>assasinations</th> <td>    0.2936</td> <td>    0.379</td> <td>    0.775</td> <td> 0.438</td> <td>   -0.449</td> <td>    1.036</td>\n",
              "</tr>\n",
              "<tr>\n",
              "  <th>rgdp60</th>        <td>   -0.0005</td> <td>    0.000</td> <td>   -3.681</td> <td> 0.000</td> <td>   -0.001</td> <td>   -0.000</td>\n",
              "</tr>\n",
              "</table>\n",
              "<table class=\"simpletable\">\n",
              "<tr>\n",
              "  <th>Omnibus:</th>       <td> 7.584</td> <th>  Durbin-Watson:     </th> <td>   2.130</td>\n",
              "</tr>\n",
              "<tr>\n",
              "  <th>Prob(Omnibus):</th> <td> 0.023</td> <th>  Jarque-Bera (JB):  </th> <td>   8.265</td>\n",
              "</tr>\n",
              "<tr>\n",
              "  <th>Skew:</th>          <td> 0.523</td> <th>  Prob(JB):          </th> <td>  0.0160</td>\n",
              "</tr>\n",
              "<tr>\n",
              "  <th>Kurtosis:</th>      <td> 4.434</td> <th>  Cond. No.          </th> <td>2.71e+04</td>\n",
              "</tr>\n",
              "</table><br/><br/>Notes:<br/>[1] Standard Errors are heteroscedasticity robust (HC1)<br/>[2] The condition number is large, 2.71e+04. This might indicate that there are<br/>strong multicollinearity or other numerical problems."
            ],
            "text/latex": "\\begin{center}\n\\begin{tabular}{lclc}\n\\toprule\n\\textbf{Dep. Variable:}    &      growth      & \\textbf{  R-squared:         } &     0.293   \\\\\n\\textbf{Model:}            &       OLS        & \\textbf{  Adj. R-squared:    } &     0.231   \\\\\n\\textbf{Method:}           &  Least Squares   & \\textbf{  F-statistic:       } &     6.933   \\\\\n\\textbf{Date:}             & Thu, 29 Feb 2024 & \\textbf{  Prob (F-statistic):} &  4.06e-05   \\\\\n\\textbf{Time:}             &     18:33:10     & \\textbf{  Log-Likelihood:    } &   -116.05   \\\\\n\\textbf{No. Observations:} &          63      & \\textbf{  AIC:               } &     244.1   \\\\\n\\textbf{Df Residuals:}     &          57      & \\textbf{  BIC:               } &     257.0   \\\\\n\\textbf{Df Model:}         &           5      & \\textbf{                     } &             \\\\\n\\textbf{Covariance Type:}  &       HC1        & \\textbf{                     } &             \\\\\n\\bottomrule\n\\end{tabular}\n\\begin{tabular}{lcccccc}\n                       & \\textbf{coef} & \\textbf{std err} & \\textbf{z} & \\textbf{P$> |$z$|$} & \\textbf{[0.025} & \\textbf{0.975]}  \\\\\n\\midrule\n\\textbf{Intercept}     &       0.5257  &        0.937     &     0.561  &         0.575        &       -1.311    &        2.363     \\\\\n\\textbf{tradeshare}    &       1.4395  &        0.938     &     1.534  &         0.125        &       -0.399    &        3.278     \\\\\n\\textbf{yearsschool}   &       0.5659  &        0.130     &     4.339  &         0.000        &        0.310    &        0.821     \\\\\n\\textbf{rev\\_coups}    &      -2.0544  &        0.917     &    -2.239  &         0.025        &       -3.853    &       -0.256     \\\\\n\\textbf{assasinations} &       0.2936  &        0.379     &     0.775  &         0.438        &       -0.449    &        1.036     \\\\\n\\textbf{rgdp60}        &      -0.0005  &        0.000     &    -3.681  &         0.000        &       -0.001    &       -0.000     \\\\\n\\bottomrule\n\\end{tabular}\n\\begin{tabular}{lclc}\n\\textbf{Omnibus:}       &  7.584 & \\textbf{  Durbin-Watson:     } &    2.130  \\\\\n\\textbf{Prob(Omnibus):} &  0.023 & \\textbf{  Jarque-Bera (JB):  } &    8.265  \\\\\n\\textbf{Skew:}          &  0.523 & \\textbf{  Prob(JB):          } &   0.0160  \\\\\n\\textbf{Kurtosis:}      &  4.434 & \\textbf{  Cond. No.          } & 2.71e+04  \\\\\n\\bottomrule\n\\end{tabular}\n%\\caption{OLS Regression Results}\n\\end{center}\n\nNotes: \\newline\n [1] Standard Errors are heteroscedasticity robust (HC1) \\newline\n [2] The condition number is large, 2.71e+04. This might indicate that there are \\newline\n strong multicollinearity or other numerical problems."
          },
          "metadata": {},
          "execution_count": 67
        }
      ]
    },
    {
      "cell_type": "code",
      "source": [
        "Part7=smf.ols(formula='growth~tradeshare+yearsschool+rev_coups+assasinations+rgdp60+oil', data=Ch6data)\n",
        "Part7results=Part7.fit(cov_type='HC1')\n",
        "Part7results.summary()"
      ],
      "metadata": {
        "colab": {
          "base_uri": "https://localhost:8080/",
          "height": 683
        },
        "id": "A5E6QXxzJIPD",
        "outputId": "5eb2bca5-2333-4c02-d1fa-b651b061f092"
      },
      "execution_count": null,
      "outputs": [
        {
          "output_type": "stream",
          "name": "stderr",
          "text": [
            "/usr/local/lib/python3.10/dist-packages/statsmodels/regression/linear_model.py:1966: RuntimeWarning: divide by zero encountered in scalar divide\n",
            "  return np.sqrt(eigvals[0]/eigvals[-1])\n",
            "/usr/local/lib/python3.10/dist-packages/statsmodels/base/model.py:1896: ValueWarning: covariance of constraints does not have full rank. The number of constraints is 6, but rank is 5\n",
            "  warnings.warn('covariance of constraints does not have full '\n"
          ]
        },
        {
          "output_type": "execute_result",
          "data": {
            "text/plain": [
              "<class 'statsmodels.iolib.summary.Summary'>\n",
              "\"\"\"\n",
              "                            OLS Regression Results                            \n",
              "==============================================================================\n",
              "Dep. Variable:                 growth   R-squared:                       0.359\n",
              "Model:                            OLS   Adj. R-squared:                  0.305\n",
              "Method:                 Least Squares   F-statistic:                     11.20\n",
              "Date:                Thu, 29 Feb 2024   Prob (F-statistic):           1.29e-07\n",
              "Time:                        18:36:44   Log-Likelihood:                -118.90\n",
              "No. Observations:                  65   AIC:                             249.8\n",
              "Df Residuals:                      59   BIC:                             262.8\n",
              "Df Model:                           5                                         \n",
              "Covariance Type:                  HC1                                         \n",
              "=================================================================================\n",
              "                    coef    std err          z      P>|z|      [0.025      0.975]\n",
              "---------------------------------------------------------------------------------\n",
              "Intercept         0.4898      0.738      0.664      0.507      -0.957       1.936\n",
              "tradeshare        1.5617      0.585      2.670      0.008       0.415       2.708\n",
              "yearsschool       0.5748      0.123      4.681      0.000       0.334       0.816\n",
              "rev_coups        -2.1575      0.878     -2.457      0.014      -3.879      -0.436\n",
              "assasinations     0.3541      0.365      0.969      0.333      -0.362       1.070\n",
              "rgdp60           -0.0005      0.000     -3.936      0.000      -0.001      -0.000\n",
              "oil                    0          0        nan        nan           0           0\n",
              "==============================================================================\n",
              "Omnibus:                        7.463   Durbin-Watson:                   2.126\n",
              "Prob(Omnibus):                  0.024   Jarque-Bera (JB):                8.425\n",
              "Skew:                           0.487   Prob(JB):                       0.0148\n",
              "Kurtosis:                       4.470   Cond. No.                          inf\n",
              "==============================================================================\n",
              "\n",
              "Notes:\n",
              "[1] Standard Errors are heteroscedasticity robust (HC1)\n",
              "[2] The smallest eigenvalue is      0. This might indicate that there are\n",
              "strong multicollinearity problems or that the design matrix is singular.\n",
              "\"\"\""
            ],
            "text/html": [
              "<table class=\"simpletable\">\n",
              "<caption>OLS Regression Results</caption>\n",
              "<tr>\n",
              "  <th>Dep. Variable:</th>         <td>growth</td>      <th>  R-squared:         </th> <td>   0.359</td>\n",
              "</tr>\n",
              "<tr>\n",
              "  <th>Model:</th>                   <td>OLS</td>       <th>  Adj. R-squared:    </th> <td>   0.305</td>\n",
              "</tr>\n",
              "<tr>\n",
              "  <th>Method:</th>             <td>Least Squares</td>  <th>  F-statistic:       </th> <td>   11.20</td>\n",
              "</tr>\n",
              "<tr>\n",
              "  <th>Date:</th>             <td>Thu, 29 Feb 2024</td> <th>  Prob (F-statistic):</th> <td>1.29e-07</td>\n",
              "</tr>\n",
              "<tr>\n",
              "  <th>Time:</th>                 <td>18:36:44</td>     <th>  Log-Likelihood:    </th> <td> -118.90</td>\n",
              "</tr>\n",
              "<tr>\n",
              "  <th>No. Observations:</th>      <td>    65</td>      <th>  AIC:               </th> <td>   249.8</td>\n",
              "</tr>\n",
              "<tr>\n",
              "  <th>Df Residuals:</th>          <td>    59</td>      <th>  BIC:               </th> <td>   262.8</td>\n",
              "</tr>\n",
              "<tr>\n",
              "  <th>Df Model:</th>              <td>     5</td>      <th>                     </th>     <td> </td>   \n",
              "</tr>\n",
              "<tr>\n",
              "  <th>Covariance Type:</th>         <td>HC1</td>       <th>                     </th>     <td> </td>   \n",
              "</tr>\n",
              "</table>\n",
              "<table class=\"simpletable\">\n",
              "<tr>\n",
              "        <td></td>           <th>coef</th>     <th>std err</th>      <th>z</th>      <th>P>|z|</th>  <th>[0.025</th>    <th>0.975]</th>  \n",
              "</tr>\n",
              "<tr>\n",
              "  <th>Intercept</th>     <td>    0.4898</td> <td>    0.738</td> <td>    0.664</td> <td> 0.507</td> <td>   -0.957</td> <td>    1.936</td>\n",
              "</tr>\n",
              "<tr>\n",
              "  <th>tradeshare</th>    <td>    1.5617</td> <td>    0.585</td> <td>    2.670</td> <td> 0.008</td> <td>    0.415</td> <td>    2.708</td>\n",
              "</tr>\n",
              "<tr>\n",
              "  <th>yearsschool</th>   <td>    0.5748</td> <td>    0.123</td> <td>    4.681</td> <td> 0.000</td> <td>    0.334</td> <td>    0.816</td>\n",
              "</tr>\n",
              "<tr>\n",
              "  <th>rev_coups</th>     <td>   -2.1575</td> <td>    0.878</td> <td>   -2.457</td> <td> 0.014</td> <td>   -3.879</td> <td>   -0.436</td>\n",
              "</tr>\n",
              "<tr>\n",
              "  <th>assasinations</th> <td>    0.3541</td> <td>    0.365</td> <td>    0.969</td> <td> 0.333</td> <td>   -0.362</td> <td>    1.070</td>\n",
              "</tr>\n",
              "<tr>\n",
              "  <th>rgdp60</th>        <td>   -0.0005</td> <td>    0.000</td> <td>   -3.936</td> <td> 0.000</td> <td>   -0.001</td> <td>   -0.000</td>\n",
              "</tr>\n",
              "<tr>\n",
              "  <th>oil</th>           <td>         0</td> <td>        0</td> <td>      nan</td> <td>   nan</td> <td>        0</td> <td>        0</td>\n",
              "</tr>\n",
              "</table>\n",
              "<table class=\"simpletable\">\n",
              "<tr>\n",
              "  <th>Omnibus:</th>       <td> 7.463</td> <th>  Durbin-Watson:     </th> <td>   2.126</td>\n",
              "</tr>\n",
              "<tr>\n",
              "  <th>Prob(Omnibus):</th> <td> 0.024</td> <th>  Jarque-Bera (JB):  </th> <td>   8.425</td>\n",
              "</tr>\n",
              "<tr>\n",
              "  <th>Skew:</th>          <td> 0.487</td> <th>  Prob(JB):          </th> <td>  0.0148</td>\n",
              "</tr>\n",
              "<tr>\n",
              "  <th>Kurtosis:</th>      <td> 4.470</td> <th>  Cond. No.          </th> <td>     inf</td>\n",
              "</tr>\n",
              "</table><br/><br/>Notes:<br/>[1] Standard Errors are heteroscedasticity robust (HC1)<br/>[2] The smallest eigenvalue is      0. This might indicate that there are<br/>strong multicollinearity problems or that the design matrix is singular."
            ],
            "text/latex": "\\begin{center}\n\\begin{tabular}{lclc}\n\\toprule\n\\textbf{Dep. Variable:}    &      growth      & \\textbf{  R-squared:         } &     0.359   \\\\\n\\textbf{Model:}            &       OLS        & \\textbf{  Adj. R-squared:    } &     0.305   \\\\\n\\textbf{Method:}           &  Least Squares   & \\textbf{  F-statistic:       } &     11.20   \\\\\n\\textbf{Date:}             & Thu, 29 Feb 2024 & \\textbf{  Prob (F-statistic):} &  1.29e-07   \\\\\n\\textbf{Time:}             &     18:36:44     & \\textbf{  Log-Likelihood:    } &   -118.90   \\\\\n\\textbf{No. Observations:} &          65      & \\textbf{  AIC:               } &     249.8   \\\\\n\\textbf{Df Residuals:}     &          59      & \\textbf{  BIC:               } &     262.8   \\\\\n\\textbf{Df Model:}         &           5      & \\textbf{                     } &             \\\\\n\\textbf{Covariance Type:}  &       HC1        & \\textbf{                     } &             \\\\\n\\bottomrule\n\\end{tabular}\n\\begin{tabular}{lcccccc}\n                       & \\textbf{coef} & \\textbf{std err} & \\textbf{z} & \\textbf{P$> |$z$|$} & \\textbf{[0.025} & \\textbf{0.975]}  \\\\\n\\midrule\n\\textbf{Intercept}     &       0.4898  &        0.738     &     0.664  &         0.507        &       -0.957    &        1.936     \\\\\n\\textbf{tradeshare}    &       1.5617  &        0.585     &     2.670  &         0.008        &        0.415    &        2.708     \\\\\n\\textbf{yearsschool}   &       0.5748  &        0.123     &     4.681  &         0.000        &        0.334    &        0.816     \\\\\n\\textbf{rev\\_coups}    &      -2.1575  &        0.878     &    -2.457  &         0.014        &       -3.879    &       -0.436     \\\\\n\\textbf{assasinations} &       0.3541  &        0.365     &     0.969  &         0.333        &       -0.362    &        1.070     \\\\\n\\textbf{rgdp60}        &      -0.0005  &        0.000     &    -3.936  &         0.000        &       -0.001    &       -0.000     \\\\\n\\textbf{oil}           &            0  &            0     &       nan  &           nan        &            0    &            0     \\\\\n\\bottomrule\n\\end{tabular}\n\\begin{tabular}{lclc}\n\\textbf{Omnibus:}       &  7.463 & \\textbf{  Durbin-Watson:     } &    2.126  \\\\\n\\textbf{Prob(Omnibus):} &  0.024 & \\textbf{  Jarque-Bera (JB):  } &    8.425  \\\\\n\\textbf{Skew:}          &  0.487 & \\textbf{  Prob(JB):          } &   0.0148  \\\\\n\\textbf{Kurtosis:}      &  4.470 & \\textbf{  Cond. No.          } &      inf  \\\\\n\\bottomrule\n\\end{tabular}\n%\\caption{OLS Regression Results}\n\\end{center}\n\nNotes: \\newline\n [1] Standard Errors are heteroscedasticity robust (HC1) \\newline\n [2] The smallest eigenvalue is      0. This might indicate that there are \\newline\n strong multicollinearity problems or that the design matrix is singular."
          },
          "metadata": {},
          "execution_count": 69
        }
      ]
    }
  ]
}