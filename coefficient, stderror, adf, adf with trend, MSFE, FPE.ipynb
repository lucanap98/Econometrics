{
  "nbformat": 4,
  "nbformat_minor": 0,
  "metadata": {
    "colab": {
      "provenance": []
    },
    "kernelspec": {
      "name": "python3",
      "display_name": "Python 3"
    },
    "language_info": {
      "name": "python"
    }
  },
  "cells": [
    {
      "cell_type": "code",
      "execution_count": null,
      "metadata": {
        "colab": {
          "base_uri": "https://localhost:8080/"
        },
        "id": "EtGjor4zS1Rv",
        "outputId": "ed190d57-9785-415f-de34-d931bb16784c"
      },
      "outputs": [
        {
          "output_type": "execute_result",
          "data": {
            "text/plain": [
              "-9.333333333333334"
            ]
          },
          "metadata": {},
          "execution_count": 1
        }
      ],
      "source": [
        "# Coefficient and standard error for the ADF test\n",
        "coefficient = -0.0028\n",
        "standard_error = 0.0003\n",
        "\n",
        "# Calculate the ADF statistic\n",
        "adf_statistic = coefficient / standard_error\n",
        "adf_statistic\n"
      ]
    },
    {
      "cell_type": "code",
      "source": [
        "# Coefficient and standard error for the ADF test with a trend\n",
        "coefficient_with_trend = -0.0023\n",
        "standard_error_with_trend = 0.0009\n",
        "\n",
        "# Calculate the ADF statistic for the test with a trend\n",
        "adf_statistic_with_trend = coefficient_with_trend / standard_error_with_trend\n",
        "adf_statistic_with_trend\n"
      ],
      "metadata": {
        "colab": {
          "base_uri": "https://localhost:8080/"
        },
        "id": "PHBVtgfPS-Hg",
        "outputId": "85c29d63-2394-4136-bc4e-062d7d5b0313"
      },
      "execution_count": null,
      "outputs": [
        {
          "output_type": "execute_result",
          "data": {
            "text/plain": [
              "-2.555555555555556"
            ]
          },
          "metadata": {},
          "execution_count": 2
        }
      ]
    },
    {
      "cell_type": "code",
      "source": [
        "# Given values\n",
        "SSR = 250.16\n",
        "N = 50  # 50 years of data\n",
        "k = 5   # Intercept + 4 lags\n",
        "\n",
        "# Calculate the mean squared forecast error (MSFE)\n",
        "MSFE = SSR / (N - k)\n",
        "MSFE_rounded = round(MSFE, 2)  # rounding to two decimal places as requested\n",
        "MSFE_rounded\n"
      ],
      "metadata": {
        "colab": {
          "base_uri": "https://localhost:8080/"
        },
        "id": "qzeHc9z3XLeg",
        "outputId": "0f233633-4ed2-42a8-d5e3-e8c9a7436a3d"
      },
      "execution_count": null,
      "outputs": [
        {
          "output_type": "execute_result",
          "data": {
            "text/plain": [
              "5.56"
            ]
          },
          "metadata": {},
          "execution_count": 3
        }
      ]
    },
    {
      "cell_type": "code",
      "source": [
        "# Calculate the Final Prediction Error (FPE)\n",
        "FPE = SSR * (N + k) / (N * (N - k))\n",
        "FPE_rounded = round(FPE, 2)  # rounding to two decimal places as requested\n",
        "FPE_rounded\n"
      ],
      "metadata": {
        "colab": {
          "base_uri": "https://localhost:8080/"
        },
        "id": "TcdHM0FnXYp3",
        "outputId": "1e719a3a-2f10-45ed-adba-e3d497832158"
      },
      "execution_count": null,
      "outputs": [
        {
          "output_type": "execute_result",
          "data": {
            "text/plain": [
              "6.12"
            ]
          },
          "metadata": {},
          "execution_count": 4
        }
      ]
    },
    {
      "cell_type": "code",
      "source": [
        "# Given coefficient and its standard error\n",
        "beta1_hat = 1.12\n",
        "SE_beta1_hat = 0.43\n",
        "\n",
        "# Calculate the t-statistic for the hypothesis beta_1 = 0\n",
        "t_statistic_beta1 = beta1_hat / SE_beta1_hat\n",
        "t_statistic_beta1_rounded = round(t_statistic_beta1, 2)  # rounding to two decimal places as requested\n",
        "t_statistic_beta1_rounded\n"
      ],
      "metadata": {
        "colab": {
          "base_uri": "https://localhost:8080/"
        },
        "id": "XrSVC4SnZtL7",
        "outputId": "b3c20a6f-697a-4fcf-a56c-635848b25aa6"
      },
      "execution_count": null,
      "outputs": [
        {
          "output_type": "execute_result",
          "data": {
            "text/plain": [
              "2.6"
            ]
          },
          "metadata": {},
          "execution_count": 5
        }
      ]
    },
    {
      "cell_type": "code",
      "source": [
        "# Given values\n",
        "p_actual = 509.43  # Actual price on January 2, 2018\n",
        "p_previous = 445.12  # Price on December 31, 2017\n",
        "\n",
        "# Coefficients from the AR(1) model\n",
        "intercept = 2.48\n",
        "coefficient_p_previous = 1.12\n",
        "\n",
        "# Calculate the forecasted price\n",
        "p_forecasted = intercept + coefficient_p_previous * p_previous\n",
        "\n",
        "# Calculate the forecast error\n",
        "forecast_error = p_actual - p_forecasted\n",
        "forecast_error_rounded = round(forecast_error, 2)  # rounding to two decimal places as requested\n",
        "forecast_error_rounded\n"
      ],
      "metadata": {
        "colab": {
          "base_uri": "https://localhost:8080/"
        },
        "id": "zmIat-xKZwei",
        "outputId": "530d552c-5ff9-42a8-ee44-d086b310d030"
      },
      "execution_count": null,
      "outputs": [
        {
          "output_type": "execute_result",
          "data": {
            "text/plain": [
              "8.42"
            ]
          },
          "metadata": {},
          "execution_count": 6
        }
      ]
    },
    {
      "cell_type": "code",
      "source": [
        "# Given SSR and MSFE for the in-sample\n",
        "SSR_in_sample = 250.16\n",
        "MSFE_in_sample = 5.56\n",
        "k_parameters = 5  # Intercept + 4 lags\n",
        "\n",
        "# Solve for T (the total number of observations)\n",
        "T_total = (SSR_in_sample / MSFE_in_sample) + k_parameters\n",
        "T_total\n"
      ],
      "metadata": {
        "id": "T-5zNVj5aCCY",
        "outputId": "16c99332-4113-4bb7-f113-ec384fadab65",
        "colab": {
          "base_uri": "https://localhost:8080/"
        }
      },
      "execution_count": null,
      "outputs": [
        {
          "output_type": "execute_result",
          "data": {
            "text/plain": [
              "49.992805755395686"
            ]
          },
          "metadata": {},
          "execution_count": 8
        }
      ]
    },
    {
      "cell_type": "code",
      "source": [
        "# Given values for the pseudo out-of-sample calculation\n",
        "sum_squared_errors_out_sample = 143\n",
        "P_proportion_out_sample = 0.40\n",
        "\n",
        "# Calculate the pseudo out-of-sample estimated MSFE\n",
        "MSFE_out_sample = sum_squared_errors_out_sample / (P_proportion_out_sample * T_total)\n",
        "MSFE_out_sample_rounded = round(MSFE_out_sample, 2)  # rounding to two decimal places as requested\n",
        "MSFE_out_sample_rounded\n"
      ],
      "metadata": {
        "id": "-X4900BaaEeD",
        "outputId": "168c0c51-b4c4-4338-c77b-6ba414025712",
        "colab": {
          "base_uri": "https://localhost:8080/"
        }
      },
      "execution_count": null,
      "outputs": [
        {
          "output_type": "execute_result",
          "data": {
            "text/plain": [
              "7.15"
            ]
          },
          "metadata": {},
          "execution_count": 9
        }
      ]
    }
  ]
}