{
  "nbformat": 4,
  "nbformat_minor": 0,
  "metadata": {
    "colab": {
      "provenance": []
    },
    "kernelspec": {
      "name": "python3",
      "display_name": "Python 3"
    },
    "language_info": {
      "name": "python"
    }
  },
  "cells": [
    {
      "cell_type": "code",
      "execution_count": null,
      "metadata": {
        "id": "-KPrphF8eaAX"
      },
      "outputs": [],
      "source": [
        "import pandas as pd\n",
        "from statsmodels.formula.api import ols\n"
      ]
    },
    {
      "cell_type": "code",
      "source": [
        "caschool=pd.read_excel(\"/content/sample_data/caschool.xlsx\")"
      ],
      "metadata": {
        "colab": {
          "base_uri": "https://localhost:8080/"
        },
        "id": "P3VNsNB4e-R8",
        "outputId": "5dd740a5-c56b-4f69-edf7-161ea09a2788"
      },
      "execution_count": null,
      "outputs": [
        {
          "output_type": "stream",
          "name": "stderr",
          "text": [
            "/usr/local/lib/python3.10/dist-packages/openpyxl/worksheet/_reader.py:329: UserWarning: Unknown extension is not supported and will be removed\n",
            "  warn(msg)\n"
          ]
        }
      ]
    },
    {
      "cell_type": "code",
      "source": [
        "caschool"
      ],
      "metadata": {
        "id": "dbof5dUiABB2"
      },
      "execution_count": null,
      "outputs": []
    },
    {
      "cell_type": "code",
      "source": [
        "LRT83R7 = ols (\"testscr ~ str + strSqr + strCube + el_pct + meal_pct + Lninc\", data = caschool)"
      ],
      "metadata": {
        "id": "qHYUUeqUhHHA"
      },
      "execution_count": null,
      "outputs": []
    },
    {
      "cell_type": "code",
      "source": [
        "LRT83R7Fit = LRT83R7.fit (cov_type = 'HC1')"
      ],
      "metadata": {
        "id": "6k9V_bZ4ialm"
      },
      "execution_count": null,
      "outputs": []
    },
    {
      "cell_type": "code",
      "source": [
        "LRT83R7Hypo = \"(str=0), (strSqr=0), (strCube=0)\""
      ],
      "metadata": {
        "id": "GFRPr2-ziv2s"
      },
      "execution_count": null,
      "outputs": []
    },
    {
      "cell_type": "code",
      "source": [
        "LRT83R7Joint = LRT83R7Fit.f_test(LRT83R7Hypo)"
      ],
      "metadata": {
        "id": "tqCdDFTPjI4g"
      },
      "execution_count": null,
      "outputs": []
    },
    {
      "cell_type": "code",
      "source": [
        "print (LRT83R7Joint)"
      ],
      "metadata": {
        "colab": {
          "base_uri": "https://localhost:8080/"
        },
        "id": "zXlbuF75jrtr",
        "outputId": "ca5a6bc1-f6f0-49ef-bf01-72045eb3b137"
      },
      "execution_count": null,
      "outputs": [
        {
          "output_type": "stream",
          "name": "stdout",
          "text": [
            "<F test: F=5.907104101643843, p=0.0005923758525900026, df_denom=413, df_num=3>\n"
          ]
        }
      ]
    },
    {
      "cell_type": "code",
      "source": [],
      "metadata": {
        "id": "AlyNgu6lnqxO"
      },
      "execution_count": null,
      "outputs": []
    }
  ]
}