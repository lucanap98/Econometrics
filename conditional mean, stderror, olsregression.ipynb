{
  "nbformat": 4,
  "nbformat_minor": 0,
  "metadata": {
    "colab": {
      "provenance": []
    },
    "kernelspec": {
      "name": "python3",
      "display_name": "Python 3"
    },
    "language_info": {
      "name": "python"
    }
  },
  "cells": [
    {
      "cell_type": "code",
      "execution_count": null,
      "metadata": {
        "id": "N3klHpCvIpd3"
      },
      "outputs": [],
      "source": [
        "import pandas as pd\n",
        "import numpy as np\n",
        "import statsmodels.formula.api as smf\n",
        "import scipy.stats as sst\n",
        "import xlrd"
      ]
    },
    {
      "cell_type": "code",
      "source": [
        "Ch5Data = pd.read_excel('/content/ch5empiricaldata.xlsx')\n",
        "print(Ch5Data)"
      ],
      "metadata": {
        "colab": {
          "base_uri": "https://localhost:8080/"
        },
        "id": "kmf_aN40I711",
        "outputId": "ca18da01-520e-448f-acdc-905fd3f94589"
      },
      "execution_count": null,
      "outputs": [
        {
          "output_type": "stream",
          "name": "stdout",
          "text": [
            "    Birthweight  Smoker\n",
            "0          3941       0\n",
            "1          4580       0\n",
            "2          3260       0\n",
            "3          3629       0\n",
            "4          3884       0\n",
            "..          ...     ...\n",
            "95         2325       1\n",
            "96         3119       1\n",
            "97         3175       1\n",
            "98         3313       1\n",
            "99         3374       1\n",
            "\n",
            "[100 rows x 2 columns]\n"
          ]
        }
      ]
    },
    {
      "cell_type": "code",
      "source": [
        "LRmean = np.mean(Ch5Data[\"Birthweight\"])\n",
        "LRmean"
      ],
      "metadata": {
        "colab": {
          "base_uri": "https://localhost:8080/"
        },
        "id": "-S7tIFSyJrAb",
        "outputId": "4d56a8cb-6796-4c4e-f418-791de4dfc3ea"
      },
      "execution_count": null,
      "outputs": [
        {
          "output_type": "execute_result",
          "data": {
            "text/plain": [
              "3323.23"
            ]
          },
          "metadata": {},
          "execution_count": 6
        }
      ]
    },
    {
      "cell_type": "code",
      "source": [
        "#for conditional mean\n",
        "meancd = Ch5Data.groupby(\"Smoker\")[['Birthweight']].mean()\n",
        "print(meancd)"
      ],
      "metadata": {
        "colab": {
          "base_uri": "https://localhost:8080/"
        },
        "id": "Z61lSvxwKD87",
        "outputId": "204e553a-bed7-4daa-ee60-35c9dcdbff60"
      },
      "execution_count": null,
      "outputs": [
        {
          "output_type": "stream",
          "name": "stdout",
          "text": [
            "        Birthweight\n",
            "Smoker             \n",
            "0       3430.484848\n",
            "1       3115.029412\n"
          ]
        }
      ]
    },
    {
      "cell_type": "code",
      "source": [
        "meansm = meancd.iat[1,0]\n",
        "print(meansm)\n",
        "meansmno = meancd.iat[0,0]\n",
        "print(meansmno)"
      ],
      "metadata": {
        "colab": {
          "base_uri": "https://localhost:8080/"
        },
        "id": "ilgUI8OCKk9M",
        "outputId": "033fc6f1-c1f4-449d-e697-dda2cbcc5eeb"
      },
      "execution_count": null,
      "outputs": [
        {
          "output_type": "stream",
          "name": "stdout",
          "text": [
            "3115.029411764706\n",
            "3430.4848484848485\n"
          ]
        }
      ]
    },
    {
      "cell_type": "code",
      "source": [
        "diff = meansmno - meansm\n",
        "print (diff)"
      ],
      "metadata": {
        "colab": {
          "base_uri": "https://localhost:8080/"
        },
        "id": "LbIs_SyTLCkk",
        "outputId": "6e60e6b0-de8d-4fbb-a6c9-ab62afc04c70"
      },
      "execution_count": null,
      "outputs": [
        {
          "output_type": "stream",
          "name": "stdout",
          "text": [
            "315.45543672014264\n"
          ]
        }
      ]
    },
    {
      "cell_type": "code",
      "source": [
        "sderror = Ch5Data.groupby('Smoker')[['Birthweight']].std()\n",
        "print(sderror)\n",
        "#step in ln[9]"
      ],
      "metadata": {
        "colab": {
          "base_uri": "https://localhost:8080/"
        },
        "id": "t9QA-MYOLOXy",
        "outputId": "0c5b0fbc-8cc9-44c3-8f4b-716647d5783b"
      },
      "execution_count": null,
      "outputs": [
        {
          "output_type": "stream",
          "name": "stdout",
          "text": [
            "        Birthweight\n",
            "Smoker             \n",
            "0        501.772527\n",
            "1        727.062395\n"
          ]
        }
      ]
    },
    {
      "cell_type": "code",
      "source": [
        "sdsm = sderror.iat[1,0]\n",
        "print(sdsm)\n",
        "sdsmno = sderror.iat[0,0]\n",
        "print (sdsmno)"
      ],
      "metadata": {
        "colab": {
          "base_uri": "https://localhost:8080/"
        },
        "id": "z44rM7dyMIiX",
        "outputId": "49653bf2-cd76-4496-993f-be1aad60dd00"
      },
      "execution_count": null,
      "outputs": [
        {
          "output_type": "stream",
          "name": "stdout",
          "text": [
            "727.0623951088803\n",
            "501.7725271451885\n"
          ]
        }
      ]
    },
    {
      "cell_type": "code",
      "source": [
        "size = Ch5Data.groupby('Smoker').size()\n",
        "print(size)"
      ],
      "metadata": {
        "colab": {
          "base_uri": "https://localhost:8080/"
        },
        "id": "RzglIjTzMlyC",
        "outputId": "e41f2ed3-8cda-4acb-e403-0f97adf1de0c"
      },
      "execution_count": null,
      "outputs": [
        {
          "output_type": "stream",
          "name": "stdout",
          "text": [
            "Smoker\n",
            "0    66\n",
            "1    34\n",
            "dtype: int64\n"
          ]
        }
      ]
    },
    {
      "cell_type": "code",
      "source": [
        "sddiff = np.sqrt(sdsm**2/34 + sdsmno**2/66)\n",
        "print(sddiff)"
      ],
      "metadata": {
        "colab": {
          "base_uri": "https://localhost:8080/"
        },
        "id": "ZM8acX_-MxWW",
        "outputId": "380a3444-7e55-4745-af4e-45b1f6dd5298"
      },
      "execution_count": null,
      "outputs": [
        {
          "output_type": "stream",
          "name": "stdout",
          "text": [
            "139.1489197759742\n"
          ]
        }
      ]
    },
    {
      "cell_type": "code",
      "source": [
        "#lowerboundary\n",
        "lbdiff = diff - sst.norm.ppf (1-0.05/2)*sddiff\n",
        "print(lbdiff)\n",
        "#upperboundary\n",
        "ubdiff = diff + sst.norm.ppf (1-0.05/2)*sddiff\n",
        "print(ubdiff)"
      ],
      "metadata": {
        "colab": {
          "base_uri": "https://localhost:8080/"
        },
        "id": "J2rnX_IrNdUa",
        "outputId": "139c1535-c071-403a-e6a1-9cabaf7ea7b2"
      },
      "execution_count": null,
      "outputs": [
        {
          "output_type": "stream",
          "name": "stdout",
          "text": [
            "42.728565471579884\n",
            "588.1823079687053\n"
          ]
        }
      ]
    },
    {
      "cell_type": "code",
      "source": [
        "#run the regression of Birthweight on the binary variable of Smoker\n",
        "LRmodel = smf.ols(formula = 'Birthweight ~ Smoker', data=Ch5Data)"
      ],
      "metadata": {
        "id": "8HrrBnJrOI7a"
      },
      "execution_count": null,
      "outputs": []
    },
    {
      "cell_type": "code",
      "source": [
        "#arranging to view the results assuming homoskedacity\n",
        "LRresults1 = LRmodel.fit()\n",
        "LRresults1.summary()"
      ],
      "metadata": {
        "colab": {
          "base_uri": "https://localhost:8080/",
          "height": 452
        },
        "id": "nATcKRkUOcOb",
        "outputId": "4ca726f3-099b-4250-d5a2-ee024947512c"
      },
      "execution_count": null,
      "outputs": [
        {
          "output_type": "execute_result",
          "data": {
            "text/plain": [
              "<class 'statsmodels.iolib.summary.Summary'>\n",
              "\"\"\"\n",
              "                            OLS Regression Results                            \n",
              "==============================================================================\n",
              "Dep. Variable:            Birthweight   R-squared:                       0.062\n",
              "Model:                            OLS   Adj. R-squared:                  0.052\n",
              "Method:                 Least Squares   F-statistic:                     6.473\n",
              "Date:                Tue, 27 Feb 2024   Prob (F-statistic):             0.0125\n",
              "Time:                        01:43:26   Log-Likelihood:                -778.45\n",
              "No. Observations:                 100   AIC:                             1561.\n",
              "Df Residuals:                      98   BIC:                             1566.\n",
              "Df Model:                           1                                         \n",
              "Covariance Type:            nonrobust                                         \n",
              "==============================================================================\n",
              "                 coef    std err          t      P>|t|      [0.025      0.975]\n",
              "------------------------------------------------------------------------------\n",
              "Intercept   3430.4848     72.300     47.448      0.000    3287.008    3573.961\n",
              "Smoker      -315.4554    123.993     -2.544      0.013    -561.516     -69.395\n",
              "==============================================================================\n",
              "Omnibus:                       16.314   Durbin-Watson:                   2.115\n",
              "Prob(Omnibus):                  0.000   Jarque-Bera (JB):               27.714\n",
              "Skew:                          -0.678   Prob(JB):                     9.59e-07\n",
              "Kurtosis:                       5.194   Cond. No.                         2.41\n",
              "==============================================================================\n",
              "\n",
              "Notes:\n",
              "[1] Standard Errors assume that the covariance matrix of the errors is correctly specified.\n",
              "\"\"\""
            ],
            "text/html": [
              "<table class=\"simpletable\">\n",
              "<caption>OLS Regression Results</caption>\n",
              "<tr>\n",
              "  <th>Dep. Variable:</th>       <td>Birthweight</td>   <th>  R-squared:         </th> <td>   0.062</td>\n",
              "</tr>\n",
              "<tr>\n",
              "  <th>Model:</th>                   <td>OLS</td>       <th>  Adj. R-squared:    </th> <td>   0.052</td>\n",
              "</tr>\n",
              "<tr>\n",
              "  <th>Method:</th>             <td>Least Squares</td>  <th>  F-statistic:       </th> <td>   6.473</td>\n",
              "</tr>\n",
              "<tr>\n",
              "  <th>Date:</th>             <td>Tue, 27 Feb 2024</td> <th>  Prob (F-statistic):</th>  <td>0.0125</td> \n",
              "</tr>\n",
              "<tr>\n",
              "  <th>Time:</th>                 <td>01:43:26</td>     <th>  Log-Likelihood:    </th> <td> -778.45</td>\n",
              "</tr>\n",
              "<tr>\n",
              "  <th>No. Observations:</th>      <td>   100</td>      <th>  AIC:               </th> <td>   1561.</td>\n",
              "</tr>\n",
              "<tr>\n",
              "  <th>Df Residuals:</th>          <td>    98</td>      <th>  BIC:               </th> <td>   1566.</td>\n",
              "</tr>\n",
              "<tr>\n",
              "  <th>Df Model:</th>              <td>     1</td>      <th>                     </th>     <td> </td>   \n",
              "</tr>\n",
              "<tr>\n",
              "  <th>Covariance Type:</th>      <td>nonrobust</td>    <th>                     </th>     <td> </td>   \n",
              "</tr>\n",
              "</table>\n",
              "<table class=\"simpletable\">\n",
              "<tr>\n",
              "      <td></td>         <th>coef</th>     <th>std err</th>      <th>t</th>      <th>P>|t|</th>  <th>[0.025</th>    <th>0.975]</th>  \n",
              "</tr>\n",
              "<tr>\n",
              "  <th>Intercept</th> <td> 3430.4848</td> <td>   72.300</td> <td>   47.448</td> <td> 0.000</td> <td> 3287.008</td> <td> 3573.961</td>\n",
              "</tr>\n",
              "<tr>\n",
              "  <th>Smoker</th>    <td> -315.4554</td> <td>  123.993</td> <td>   -2.544</td> <td> 0.013</td> <td> -561.516</td> <td>  -69.395</td>\n",
              "</tr>\n",
              "</table>\n",
              "<table class=\"simpletable\">\n",
              "<tr>\n",
              "  <th>Omnibus:</th>       <td>16.314</td> <th>  Durbin-Watson:     </th> <td>   2.115</td>\n",
              "</tr>\n",
              "<tr>\n",
              "  <th>Prob(Omnibus):</th> <td> 0.000</td> <th>  Jarque-Bera (JB):  </th> <td>  27.714</td>\n",
              "</tr>\n",
              "<tr>\n",
              "  <th>Skew:</th>          <td>-0.678</td> <th>  Prob(JB):          </th> <td>9.59e-07</td>\n",
              "</tr>\n",
              "<tr>\n",
              "  <th>Kurtosis:</th>      <td> 5.194</td> <th>  Cond. No.          </th> <td>    2.41</td>\n",
              "</tr>\n",
              "</table><br/><br/>Notes:<br/>[1] Standard Errors assume that the covariance matrix of the errors is correctly specified."
            ],
            "text/latex": "\\begin{center}\n\\begin{tabular}{lclc}\n\\toprule\n\\textbf{Dep. Variable:}    &   Birthweight    & \\textbf{  R-squared:         } &     0.062   \\\\\n\\textbf{Model:}            &       OLS        & \\textbf{  Adj. R-squared:    } &     0.052   \\\\\n\\textbf{Method:}           &  Least Squares   & \\textbf{  F-statistic:       } &     6.473   \\\\\n\\textbf{Date:}             & Tue, 27 Feb 2024 & \\textbf{  Prob (F-statistic):} &   0.0125    \\\\\n\\textbf{Time:}             &     01:43:26     & \\textbf{  Log-Likelihood:    } &   -778.45   \\\\\n\\textbf{No. Observations:} &         100      & \\textbf{  AIC:               } &     1561.   \\\\\n\\textbf{Df Residuals:}     &          98      & \\textbf{  BIC:               } &     1566.   \\\\\n\\textbf{Df Model:}         &           1      & \\textbf{                     } &             \\\\\n\\textbf{Covariance Type:}  &    nonrobust     & \\textbf{                     } &             \\\\\n\\bottomrule\n\\end{tabular}\n\\begin{tabular}{lcccccc}\n                   & \\textbf{coef} & \\textbf{std err} & \\textbf{t} & \\textbf{P$> |$t$|$} & \\textbf{[0.025} & \\textbf{0.975]}  \\\\\n\\midrule\n\\textbf{Intercept} &    3430.4848  &       72.300     &    47.448  &         0.000        &     3287.008    &     3573.961     \\\\\n\\textbf{Smoker}    &    -315.4554  &      123.993     &    -2.544  &         0.013        &     -561.516    &      -69.395     \\\\\n\\bottomrule\n\\end{tabular}\n\\begin{tabular}{lclc}\n\\textbf{Omnibus:}       & 16.314 & \\textbf{  Durbin-Watson:     } &    2.115  \\\\\n\\textbf{Prob(Omnibus):} &  0.000 & \\textbf{  Jarque-Bera (JB):  } &   27.714  \\\\\n\\textbf{Skew:}          & -0.678 & \\textbf{  Prob(JB):          } & 9.59e-07  \\\\\n\\textbf{Kurtosis:}      &  5.194 & \\textbf{  Cond. No.          } &     2.41  \\\\\n\\bottomrule\n\\end{tabular}\n%\\caption{OLS Regression Results}\n\\end{center}\n\nNotes: \\newline\n [1] Standard Errors assume that the covariance matrix of the errors is correctly specified."
          },
          "metadata": {},
          "execution_count": 20
        }
      ]
    },
    {
      "cell_type": "code",
      "source": [
        "#arranging the view to heteroskedasticity-robust\n",
        "LRresults2 = LRmodel.fit(cov_type='HC1')\n",
        "LRresults2.summary()"
      ],
      "metadata": {
        "colab": {
          "base_uri": "https://localhost:8080/",
          "height": 452
        },
        "id": "Dfa135CaO4jF",
        "outputId": "ddcc0447-6ea7-4029-cce6-c4369febfbcd"
      },
      "execution_count": null,
      "outputs": [
        {
          "output_type": "execute_result",
          "data": {
            "text/plain": [
              "<class 'statsmodels.iolib.summary.Summary'>\n",
              "\"\"\"\n",
              "                            OLS Regression Results                            \n",
              "==============================================================================\n",
              "Dep. Variable:            Birthweight   R-squared:                       0.062\n",
              "Model:                            OLS   Adj. R-squared:                  0.052\n",
              "Method:                 Least Squares   F-statistic:                     5.174\n",
              "Date:                Tue, 27 Feb 2024   Prob (F-statistic):             0.0251\n",
              "Time:                        01:45:47   Log-Likelihood:                -778.45\n",
              "No. Observations:                 100   AIC:                             1561.\n",
              "Df Residuals:                      98   BIC:                             1566.\n",
              "Df Model:                           1                                         \n",
              "Covariance Type:                  HC1                                         \n",
              "==============================================================================\n",
              "                 coef    std err          z      P>|z|      [0.025      0.975]\n",
              "------------------------------------------------------------------------------\n",
              "Intercept   3430.4848     61.917     55.405      0.000    3309.131    3551.839\n",
              "Smoker      -315.4554    138.679     -2.275      0.023    -587.262     -43.649\n",
              "==============================================================================\n",
              "Omnibus:                       16.314   Durbin-Watson:                   2.115\n",
              "Prob(Omnibus):                  0.000   Jarque-Bera (JB):               27.714\n",
              "Skew:                          -0.678   Prob(JB):                     9.59e-07\n",
              "Kurtosis:                       5.194   Cond. No.                         2.41\n",
              "==============================================================================\n",
              "\n",
              "Notes:\n",
              "[1] Standard Errors are heteroscedasticity robust (HC1)\n",
              "\"\"\""
            ],
            "text/html": [
              "<table class=\"simpletable\">\n",
              "<caption>OLS Regression Results</caption>\n",
              "<tr>\n",
              "  <th>Dep. Variable:</th>       <td>Birthweight</td>   <th>  R-squared:         </th> <td>   0.062</td>\n",
              "</tr>\n",
              "<tr>\n",
              "  <th>Model:</th>                   <td>OLS</td>       <th>  Adj. R-squared:    </th> <td>   0.052</td>\n",
              "</tr>\n",
              "<tr>\n",
              "  <th>Method:</th>             <td>Least Squares</td>  <th>  F-statistic:       </th> <td>   5.174</td>\n",
              "</tr>\n",
              "<tr>\n",
              "  <th>Date:</th>             <td>Tue, 27 Feb 2024</td> <th>  Prob (F-statistic):</th>  <td>0.0251</td> \n",
              "</tr>\n",
              "<tr>\n",
              "  <th>Time:</th>                 <td>01:45:47</td>     <th>  Log-Likelihood:    </th> <td> -778.45</td>\n",
              "</tr>\n",
              "<tr>\n",
              "  <th>No. Observations:</th>      <td>   100</td>      <th>  AIC:               </th> <td>   1561.</td>\n",
              "</tr>\n",
              "<tr>\n",
              "  <th>Df Residuals:</th>          <td>    98</td>      <th>  BIC:               </th> <td>   1566.</td>\n",
              "</tr>\n",
              "<tr>\n",
              "  <th>Df Model:</th>              <td>     1</td>      <th>                     </th>     <td> </td>   \n",
              "</tr>\n",
              "<tr>\n",
              "  <th>Covariance Type:</th>         <td>HC1</td>       <th>                     </th>     <td> </td>   \n",
              "</tr>\n",
              "</table>\n",
              "<table class=\"simpletable\">\n",
              "<tr>\n",
              "      <td></td>         <th>coef</th>     <th>std err</th>      <th>z</th>      <th>P>|z|</th>  <th>[0.025</th>    <th>0.975]</th>  \n",
              "</tr>\n",
              "<tr>\n",
              "  <th>Intercept</th> <td> 3430.4848</td> <td>   61.917</td> <td>   55.405</td> <td> 0.000</td> <td> 3309.131</td> <td> 3551.839</td>\n",
              "</tr>\n",
              "<tr>\n",
              "  <th>Smoker</th>    <td> -315.4554</td> <td>  138.679</td> <td>   -2.275</td> <td> 0.023</td> <td> -587.262</td> <td>  -43.649</td>\n",
              "</tr>\n",
              "</table>\n",
              "<table class=\"simpletable\">\n",
              "<tr>\n",
              "  <th>Omnibus:</th>       <td>16.314</td> <th>  Durbin-Watson:     </th> <td>   2.115</td>\n",
              "</tr>\n",
              "<tr>\n",
              "  <th>Prob(Omnibus):</th> <td> 0.000</td> <th>  Jarque-Bera (JB):  </th> <td>  27.714</td>\n",
              "</tr>\n",
              "<tr>\n",
              "  <th>Skew:</th>          <td>-0.678</td> <th>  Prob(JB):          </th> <td>9.59e-07</td>\n",
              "</tr>\n",
              "<tr>\n",
              "  <th>Kurtosis:</th>      <td> 5.194</td> <th>  Cond. No.          </th> <td>    2.41</td>\n",
              "</tr>\n",
              "</table><br/><br/>Notes:<br/>[1] Standard Errors are heteroscedasticity robust (HC1)"
            ],
            "text/latex": "\\begin{center}\n\\begin{tabular}{lclc}\n\\toprule\n\\textbf{Dep. Variable:}    &   Birthweight    & \\textbf{  R-squared:         } &     0.062   \\\\\n\\textbf{Model:}            &       OLS        & \\textbf{  Adj. R-squared:    } &     0.052   \\\\\n\\textbf{Method:}           &  Least Squares   & \\textbf{  F-statistic:       } &     5.174   \\\\\n\\textbf{Date:}             & Tue, 27 Feb 2024 & \\textbf{  Prob (F-statistic):} &   0.0251    \\\\\n\\textbf{Time:}             &     01:45:47     & \\textbf{  Log-Likelihood:    } &   -778.45   \\\\\n\\textbf{No. Observations:} &         100      & \\textbf{  AIC:               } &     1561.   \\\\\n\\textbf{Df Residuals:}     &          98      & \\textbf{  BIC:               } &     1566.   \\\\\n\\textbf{Df Model:}         &           1      & \\textbf{                     } &             \\\\\n\\textbf{Covariance Type:}  &       HC1        & \\textbf{                     } &             \\\\\n\\bottomrule\n\\end{tabular}\n\\begin{tabular}{lcccccc}\n                   & \\textbf{coef} & \\textbf{std err} & \\textbf{z} & \\textbf{P$> |$z$|$} & \\textbf{[0.025} & \\textbf{0.975]}  \\\\\n\\midrule\n\\textbf{Intercept} &    3430.4848  &       61.917     &    55.405  &         0.000        &     3309.131    &     3551.839     \\\\\n\\textbf{Smoker}    &    -315.4554  &      138.679     &    -2.275  &         0.023        &     -587.262    &      -43.649     \\\\\n\\bottomrule\n\\end{tabular}\n\\begin{tabular}{lclc}\n\\textbf{Omnibus:}       & 16.314 & \\textbf{  Durbin-Watson:     } &    2.115  \\\\\n\\textbf{Prob(Omnibus):} &  0.000 & \\textbf{  Jarque-Bera (JB):  } &   27.714  \\\\\n\\textbf{Skew:}          & -0.678 & \\textbf{  Prob(JB):          } & 9.59e-07  \\\\\n\\textbf{Kurtosis:}      &  5.194 & \\textbf{  Cond. No.          } &     2.41  \\\\\n\\bottomrule\n\\end{tabular}\n%\\caption{OLS Regression Results}\n\\end{center}\n\nNotes: \\newline\n [1] Standard Errors are heteroscedasticity robust (HC1)"
          },
          "metadata": {},
          "execution_count": 21
        }
      ]
    }
  ]
}