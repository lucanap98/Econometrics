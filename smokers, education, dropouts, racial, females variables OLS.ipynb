{
  "nbformat": 4,
  "nbformat_minor": 0,
  "metadata": {
    "colab": {
      "provenance": []
    },
    "kernelspec": {
      "name": "python3",
      "display_name": "Python 3"
    },
    "language_info": {
      "name": "python"
    }
  },
  "cells": [
    {
      "cell_type": "code",
      "execution_count": null,
      "metadata": {
        "id": "N9VrW7SskNPY"
      },
      "outputs": [],
      "source": [
        "import pandas as pd\n",
        "import statsmodels.formula.api as smf\n"
      ]
    },
    {
      "cell_type": "code",
      "source": [
        "Ch11data = pd.read_excel('/content/Smoking.xlsx', sheet_name='Smoking')\n",
        "print(Ch11data)"
      ],
      "metadata": {
        "colab": {
          "base_uri": "https://localhost:8080/"
        },
        "id": "oaz1NOwklNo6",
        "outputId": "b4b4caec-a28c-4829-d9b3-7b5816f810e6"
      },
      "execution_count": null,
      "outputs": [
        {
          "output_type": "stream",
          "name": "stdout",
          "text": [
            "      smoker  smkban  age  hsdrop  hsgrad  colsome  colgrad  black  hispanic  \\\n",
            "0          1       1   41       0       1        0        0      0         0   \n",
            "1          1       1   44       0       0        1        0      0         0   \n",
            "2          0       0   19       0       0        1        0      0         0   \n",
            "3          1       0   29       0       1        0        0      0         0   \n",
            "4          0       1   28       0       0        1        0      0         0   \n",
            "...      ...     ...  ...     ...     ...      ...      ...    ...       ...   \n",
            "9995       0       0   55       0       1        0        0      0         0   \n",
            "9996       0       0   31       0       0        0        0      0         0   \n",
            "9997       0       1   36       0       0        1        0      0         0   \n",
            "9998       1       0   42       0       1        0        0      0         0   \n",
            "9999       0       1   35       0       0        1        0      0         0   \n",
            "\n",
            "      female  \n",
            "0          1  \n",
            "1          1  \n",
            "2          1  \n",
            "3          1  \n",
            "4          1  \n",
            "...      ...  \n",
            "9995       0  \n",
            "9996       0  \n",
            "9997       1  \n",
            "9998       1  \n",
            "9999       0  \n",
            "\n",
            "[10000 rows x 10 columns]\n"
          ]
        },
        {
          "output_type": "stream",
          "name": "stderr",
          "text": [
            "/usr/local/lib/python3.10/dist-packages/openpyxl/worksheet/_reader.py:329: UserWarning: Unknown extension is not supported and will be removed\n",
            "  warn(msg)\n"
          ]
        }
      ]
    },
    {
      "cell_type": "code",
      "source": [
        "smokedf = pd.DataFrame (Ch11data)\n",
        "smokedf"
      ],
      "metadata": {
        "colab": {
          "base_uri": "https://localhost:8080/",
          "height": 444
        },
        "id": "55fHFk2IpH0I",
        "outputId": "c7ac96ad-8170-4f0c-aceb-e0872cc87004"
      },
      "execution_count": null,
      "outputs": [
        {
          "output_type": "execute_result",
          "data": {
            "text/plain": [
              "      smoker  smkban  age  hsdrop  hsgrad  colsome  colgrad  black  hispanic  \\\n",
              "0          1       1   41       0       1        0        0      0         0   \n",
              "1          1       1   44       0       0        1        0      0         0   \n",
              "2          0       0   19       0       0        1        0      0         0   \n",
              "3          1       0   29       0       1        0        0      0         0   \n",
              "4          0       1   28       0       0        1        0      0         0   \n",
              "...      ...     ...  ...     ...     ...      ...      ...    ...       ...   \n",
              "9995       0       0   55       0       1        0        0      0         0   \n",
              "9996       0       0   31       0       0        0        0      0         0   \n",
              "9997       0       1   36       0       0        1        0      0         0   \n",
              "9998       1       0   42       0       1        0        0      0         0   \n",
              "9999       0       1   35       0       0        1        0      0         0   \n",
              "\n",
              "      female  \n",
              "0          1  \n",
              "1          1  \n",
              "2          1  \n",
              "3          1  \n",
              "4          1  \n",
              "...      ...  \n",
              "9995       0  \n",
              "9996       0  \n",
              "9997       1  \n",
              "9998       1  \n",
              "9999       0  \n",
              "\n",
              "[10000 rows x 10 columns]"
            ],
            "text/html": [
              "\n",
              "  <div id=\"df-02622c2a-d9ec-45da-831e-a33ab5f92d63\" class=\"colab-df-container\">\n",
              "    <div>\n",
              "<style scoped>\n",
              "    .dataframe tbody tr th:only-of-type {\n",
              "        vertical-align: middle;\n",
              "    }\n",
              "\n",
              "    .dataframe tbody tr th {\n",
              "        vertical-align: top;\n",
              "    }\n",
              "\n",
              "    .dataframe thead th {\n",
              "        text-align: right;\n",
              "    }\n",
              "</style>\n",
              "<table border=\"1\" class=\"dataframe\">\n",
              "  <thead>\n",
              "    <tr style=\"text-align: right;\">\n",
              "      <th></th>\n",
              "      <th>smoker</th>\n",
              "      <th>smkban</th>\n",
              "      <th>age</th>\n",
              "      <th>hsdrop</th>\n",
              "      <th>hsgrad</th>\n",
              "      <th>colsome</th>\n",
              "      <th>colgrad</th>\n",
              "      <th>black</th>\n",
              "      <th>hispanic</th>\n",
              "      <th>female</th>\n",
              "    </tr>\n",
              "  </thead>\n",
              "  <tbody>\n",
              "    <tr>\n",
              "      <th>0</th>\n",
              "      <td>1</td>\n",
              "      <td>1</td>\n",
              "      <td>41</td>\n",
              "      <td>0</td>\n",
              "      <td>1</td>\n",
              "      <td>0</td>\n",
              "      <td>0</td>\n",
              "      <td>0</td>\n",
              "      <td>0</td>\n",
              "      <td>1</td>\n",
              "    </tr>\n",
              "    <tr>\n",
              "      <th>1</th>\n",
              "      <td>1</td>\n",
              "      <td>1</td>\n",
              "      <td>44</td>\n",
              "      <td>0</td>\n",
              "      <td>0</td>\n",
              "      <td>1</td>\n",
              "      <td>0</td>\n",
              "      <td>0</td>\n",
              "      <td>0</td>\n",
              "      <td>1</td>\n",
              "    </tr>\n",
              "    <tr>\n",
              "      <th>2</th>\n",
              "      <td>0</td>\n",
              "      <td>0</td>\n",
              "      <td>19</td>\n",
              "      <td>0</td>\n",
              "      <td>0</td>\n",
              "      <td>1</td>\n",
              "      <td>0</td>\n",
              "      <td>0</td>\n",
              "      <td>0</td>\n",
              "      <td>1</td>\n",
              "    </tr>\n",
              "    <tr>\n",
              "      <th>3</th>\n",
              "      <td>1</td>\n",
              "      <td>0</td>\n",
              "      <td>29</td>\n",
              "      <td>0</td>\n",
              "      <td>1</td>\n",
              "      <td>0</td>\n",
              "      <td>0</td>\n",
              "      <td>0</td>\n",
              "      <td>0</td>\n",
              "      <td>1</td>\n",
              "    </tr>\n",
              "    <tr>\n",
              "      <th>4</th>\n",
              "      <td>0</td>\n",
              "      <td>1</td>\n",
              "      <td>28</td>\n",
              "      <td>0</td>\n",
              "      <td>0</td>\n",
              "      <td>1</td>\n",
              "      <td>0</td>\n",
              "      <td>0</td>\n",
              "      <td>0</td>\n",
              "      <td>1</td>\n",
              "    </tr>\n",
              "    <tr>\n",
              "      <th>...</th>\n",
              "      <td>...</td>\n",
              "      <td>...</td>\n",
              "      <td>...</td>\n",
              "      <td>...</td>\n",
              "      <td>...</td>\n",
              "      <td>...</td>\n",
              "      <td>...</td>\n",
              "      <td>...</td>\n",
              "      <td>...</td>\n",
              "      <td>...</td>\n",
              "    </tr>\n",
              "    <tr>\n",
              "      <th>9995</th>\n",
              "      <td>0</td>\n",
              "      <td>0</td>\n",
              "      <td>55</td>\n",
              "      <td>0</td>\n",
              "      <td>1</td>\n",
              "      <td>0</td>\n",
              "      <td>0</td>\n",
              "      <td>0</td>\n",
              "      <td>0</td>\n",
              "      <td>0</td>\n",
              "    </tr>\n",
              "    <tr>\n",
              "      <th>9996</th>\n",
              "      <td>0</td>\n",
              "      <td>0</td>\n",
              "      <td>31</td>\n",
              "      <td>0</td>\n",
              "      <td>0</td>\n",
              "      <td>0</td>\n",
              "      <td>0</td>\n",
              "      <td>0</td>\n",
              "      <td>0</td>\n",
              "      <td>0</td>\n",
              "    </tr>\n",
              "    <tr>\n",
              "      <th>9997</th>\n",
              "      <td>0</td>\n",
              "      <td>1</td>\n",
              "      <td>36</td>\n",
              "      <td>0</td>\n",
              "      <td>0</td>\n",
              "      <td>1</td>\n",
              "      <td>0</td>\n",
              "      <td>0</td>\n",
              "      <td>0</td>\n",
              "      <td>1</td>\n",
              "    </tr>\n",
              "    <tr>\n",
              "      <th>9998</th>\n",
              "      <td>1</td>\n",
              "      <td>0</td>\n",
              "      <td>42</td>\n",
              "      <td>0</td>\n",
              "      <td>1</td>\n",
              "      <td>0</td>\n",
              "      <td>0</td>\n",
              "      <td>0</td>\n",
              "      <td>0</td>\n",
              "      <td>1</td>\n",
              "    </tr>\n",
              "    <tr>\n",
              "      <th>9999</th>\n",
              "      <td>0</td>\n",
              "      <td>1</td>\n",
              "      <td>35</td>\n",
              "      <td>0</td>\n",
              "      <td>0</td>\n",
              "      <td>1</td>\n",
              "      <td>0</td>\n",
              "      <td>0</td>\n",
              "      <td>0</td>\n",
              "      <td>0</td>\n",
              "    </tr>\n",
              "  </tbody>\n",
              "</table>\n",
              "<p>10000 rows × 10 columns</p>\n",
              "</div>\n",
              "    <div class=\"colab-df-buttons\">\n",
              "\n",
              "  <div class=\"colab-df-container\">\n",
              "    <button class=\"colab-df-convert\" onclick=\"convertToInteractive('df-02622c2a-d9ec-45da-831e-a33ab5f92d63')\"\n",
              "            title=\"Convert this dataframe to an interactive table.\"\n",
              "            style=\"display:none;\">\n",
              "\n",
              "  <svg xmlns=\"http://www.w3.org/2000/svg\" height=\"24px\" viewBox=\"0 -960 960 960\">\n",
              "    <path d=\"M120-120v-720h720v720H120Zm60-500h600v-160H180v160Zm220 220h160v-160H400v160Zm0 220h160v-160H400v160ZM180-400h160v-160H180v160Zm440 0h160v-160H620v160ZM180-180h160v-160H180v160Zm440 0h160v-160H620v160Z\"/>\n",
              "  </svg>\n",
              "    </button>\n",
              "\n",
              "  <style>\n",
              "    .colab-df-container {\n",
              "      display:flex;\n",
              "      gap: 12px;\n",
              "    }\n",
              "\n",
              "    .colab-df-convert {\n",
              "      background-color: #E8F0FE;\n",
              "      border: none;\n",
              "      border-radius: 50%;\n",
              "      cursor: pointer;\n",
              "      display: none;\n",
              "      fill: #1967D2;\n",
              "      height: 32px;\n",
              "      padding: 0 0 0 0;\n",
              "      width: 32px;\n",
              "    }\n",
              "\n",
              "    .colab-df-convert:hover {\n",
              "      background-color: #E2EBFA;\n",
              "      box-shadow: 0px 1px 2px rgba(60, 64, 67, 0.3), 0px 1px 3px 1px rgba(60, 64, 67, 0.15);\n",
              "      fill: #174EA6;\n",
              "    }\n",
              "\n",
              "    .colab-df-buttons div {\n",
              "      margin-bottom: 4px;\n",
              "    }\n",
              "\n",
              "    [theme=dark] .colab-df-convert {\n",
              "      background-color: #3B4455;\n",
              "      fill: #D2E3FC;\n",
              "    }\n",
              "\n",
              "    [theme=dark] .colab-df-convert:hover {\n",
              "      background-color: #434B5C;\n",
              "      box-shadow: 0px 1px 3px 1px rgba(0, 0, 0, 0.15);\n",
              "      filter: drop-shadow(0px 1px 2px rgba(0, 0, 0, 0.3));\n",
              "      fill: #FFFFFF;\n",
              "    }\n",
              "  </style>\n",
              "\n",
              "    <script>\n",
              "      const buttonEl =\n",
              "        document.querySelector('#df-02622c2a-d9ec-45da-831e-a33ab5f92d63 button.colab-df-convert');\n",
              "      buttonEl.style.display =\n",
              "        google.colab.kernel.accessAllowed ? 'block' : 'none';\n",
              "\n",
              "      async function convertToInteractive(key) {\n",
              "        const element = document.querySelector('#df-02622c2a-d9ec-45da-831e-a33ab5f92d63');\n",
              "        const dataTable =\n",
              "          await google.colab.kernel.invokeFunction('convertToInteractive',\n",
              "                                                    [key], {});\n",
              "        if (!dataTable) return;\n",
              "\n",
              "        const docLinkHtml = 'Like what you see? Visit the ' +\n",
              "          '<a target=\"_blank\" href=https://colab.research.google.com/notebooks/data_table.ipynb>data table notebook</a>'\n",
              "          + ' to learn more about interactive tables.';\n",
              "        element.innerHTML = '';\n",
              "        dataTable['output_type'] = 'display_data';\n",
              "        await google.colab.output.renderOutput(dataTable, element);\n",
              "        const docLink = document.createElement('div');\n",
              "        docLink.innerHTML = docLinkHtml;\n",
              "        element.appendChild(docLink);\n",
              "      }\n",
              "    </script>\n",
              "  </div>\n",
              "\n",
              "\n",
              "<div id=\"df-ef895098-154a-45f2-b366-604671a50218\">\n",
              "  <button class=\"colab-df-quickchart\" onclick=\"quickchart('df-ef895098-154a-45f2-b366-604671a50218')\"\n",
              "            title=\"Suggest charts\"\n",
              "            style=\"display:none;\">\n",
              "\n",
              "<svg xmlns=\"http://www.w3.org/2000/svg\" height=\"24px\"viewBox=\"0 0 24 24\"\n",
              "     width=\"24px\">\n",
              "    <g>\n",
              "        <path d=\"M19 3H5c-1.1 0-2 .9-2 2v14c0 1.1.9 2 2 2h14c1.1 0 2-.9 2-2V5c0-1.1-.9-2-2-2zM9 17H7v-7h2v7zm4 0h-2V7h2v10zm4 0h-2v-4h2v4z\"/>\n",
              "    </g>\n",
              "</svg>\n",
              "  </button>\n",
              "\n",
              "<style>\n",
              "  .colab-df-quickchart {\n",
              "      --bg-color: #E8F0FE;\n",
              "      --fill-color: #1967D2;\n",
              "      --hover-bg-color: #E2EBFA;\n",
              "      --hover-fill-color: #174EA6;\n",
              "      --disabled-fill-color: #AAA;\n",
              "      --disabled-bg-color: #DDD;\n",
              "  }\n",
              "\n",
              "  [theme=dark] .colab-df-quickchart {\n",
              "      --bg-color: #3B4455;\n",
              "      --fill-color: #D2E3FC;\n",
              "      --hover-bg-color: #434B5C;\n",
              "      --hover-fill-color: #FFFFFF;\n",
              "      --disabled-bg-color: #3B4455;\n",
              "      --disabled-fill-color: #666;\n",
              "  }\n",
              "\n",
              "  .colab-df-quickchart {\n",
              "    background-color: var(--bg-color);\n",
              "    border: none;\n",
              "    border-radius: 50%;\n",
              "    cursor: pointer;\n",
              "    display: none;\n",
              "    fill: var(--fill-color);\n",
              "    height: 32px;\n",
              "    padding: 0;\n",
              "    width: 32px;\n",
              "  }\n",
              "\n",
              "  .colab-df-quickchart:hover {\n",
              "    background-color: var(--hover-bg-color);\n",
              "    box-shadow: 0 1px 2px rgba(60, 64, 67, 0.3), 0 1px 3px 1px rgba(60, 64, 67, 0.15);\n",
              "    fill: var(--button-hover-fill-color);\n",
              "  }\n",
              "\n",
              "  .colab-df-quickchart-complete:disabled,\n",
              "  .colab-df-quickchart-complete:disabled:hover {\n",
              "    background-color: var(--disabled-bg-color);\n",
              "    fill: var(--disabled-fill-color);\n",
              "    box-shadow: none;\n",
              "  }\n",
              "\n",
              "  .colab-df-spinner {\n",
              "    border: 2px solid var(--fill-color);\n",
              "    border-color: transparent;\n",
              "    border-bottom-color: var(--fill-color);\n",
              "    animation:\n",
              "      spin 1s steps(1) infinite;\n",
              "  }\n",
              "\n",
              "  @keyframes spin {\n",
              "    0% {\n",
              "      border-color: transparent;\n",
              "      border-bottom-color: var(--fill-color);\n",
              "      border-left-color: var(--fill-color);\n",
              "    }\n",
              "    20% {\n",
              "      border-color: transparent;\n",
              "      border-left-color: var(--fill-color);\n",
              "      border-top-color: var(--fill-color);\n",
              "    }\n",
              "    30% {\n",
              "      border-color: transparent;\n",
              "      border-left-color: var(--fill-color);\n",
              "      border-top-color: var(--fill-color);\n",
              "      border-right-color: var(--fill-color);\n",
              "    }\n",
              "    40% {\n",
              "      border-color: transparent;\n",
              "      border-right-color: var(--fill-color);\n",
              "      border-top-color: var(--fill-color);\n",
              "    }\n",
              "    60% {\n",
              "      border-color: transparent;\n",
              "      border-right-color: var(--fill-color);\n",
              "    }\n",
              "    80% {\n",
              "      border-color: transparent;\n",
              "      border-right-color: var(--fill-color);\n",
              "      border-bottom-color: var(--fill-color);\n",
              "    }\n",
              "    90% {\n",
              "      border-color: transparent;\n",
              "      border-bottom-color: var(--fill-color);\n",
              "    }\n",
              "  }\n",
              "</style>\n",
              "\n",
              "  <script>\n",
              "    async function quickchart(key) {\n",
              "      const quickchartButtonEl =\n",
              "        document.querySelector('#' + key + ' button');\n",
              "      quickchartButtonEl.disabled = true;  // To prevent multiple clicks.\n",
              "      quickchartButtonEl.classList.add('colab-df-spinner');\n",
              "      try {\n",
              "        const charts = await google.colab.kernel.invokeFunction(\n",
              "            'suggestCharts', [key], {});\n",
              "      } catch (error) {\n",
              "        console.error('Error during call to suggestCharts:', error);\n",
              "      }\n",
              "      quickchartButtonEl.classList.remove('colab-df-spinner');\n",
              "      quickchartButtonEl.classList.add('colab-df-quickchart-complete');\n",
              "    }\n",
              "    (() => {\n",
              "      let quickchartButtonEl =\n",
              "        document.querySelector('#df-ef895098-154a-45f2-b366-604671a50218 button');\n",
              "      quickchartButtonEl.style.display =\n",
              "        google.colab.kernel.accessAllowed ? 'block' : 'none';\n",
              "    })();\n",
              "  </script>\n",
              "</div>\n",
              "\n",
              "  <div id=\"id_455aa137-1445-456b-beae-66eceea9d51c\">\n",
              "    <style>\n",
              "      .colab-df-generate {\n",
              "        background-color: #E8F0FE;\n",
              "        border: none;\n",
              "        border-radius: 50%;\n",
              "        cursor: pointer;\n",
              "        display: none;\n",
              "        fill: #1967D2;\n",
              "        height: 32px;\n",
              "        padding: 0 0 0 0;\n",
              "        width: 32px;\n",
              "      }\n",
              "\n",
              "      .colab-df-generate:hover {\n",
              "        background-color: #E2EBFA;\n",
              "        box-shadow: 0px 1px 2px rgba(60, 64, 67, 0.3), 0px 1px 3px 1px rgba(60, 64, 67, 0.15);\n",
              "        fill: #174EA6;\n",
              "      }\n",
              "\n",
              "      [theme=dark] .colab-df-generate {\n",
              "        background-color: #3B4455;\n",
              "        fill: #D2E3FC;\n",
              "      }\n",
              "\n",
              "      [theme=dark] .colab-df-generate:hover {\n",
              "        background-color: #434B5C;\n",
              "        box-shadow: 0px 1px 3px 1px rgba(0, 0, 0, 0.15);\n",
              "        filter: drop-shadow(0px 1px 2px rgba(0, 0, 0, 0.3));\n",
              "        fill: #FFFFFF;\n",
              "      }\n",
              "    </style>\n",
              "    <button class=\"colab-df-generate\" onclick=\"generateWithVariable('smokedf')\"\n",
              "            title=\"Generate code using this dataframe.\"\n",
              "            style=\"display:none;\">\n",
              "\n",
              "  <svg xmlns=\"http://www.w3.org/2000/svg\" height=\"24px\"viewBox=\"0 0 24 24\"\n",
              "       width=\"24px\">\n",
              "    <path d=\"M7,19H8.4L18.45,9,17,7.55,7,17.6ZM5,21V16.75L18.45,3.32a2,2,0,0,1,2.83,0l1.4,1.43a1.91,1.91,0,0,1,.58,1.4,1.91,1.91,0,0,1-.58,1.4L9.25,21ZM18.45,9,17,7.55Zm-12,3A5.31,5.31,0,0,0,4.9,8.1,5.31,5.31,0,0,0,1,6.5,5.31,5.31,0,0,0,4.9,4.9,5.31,5.31,0,0,0,6.5,1,5.31,5.31,0,0,0,8.1,4.9,5.31,5.31,0,0,0,12,6.5,5.46,5.46,0,0,0,6.5,12Z\"/>\n",
              "  </svg>\n",
              "    </button>\n",
              "    <script>\n",
              "      (() => {\n",
              "      const buttonEl =\n",
              "        document.querySelector('#id_455aa137-1445-456b-beae-66eceea9d51c button.colab-df-generate');\n",
              "      buttonEl.style.display =\n",
              "        google.colab.kernel.accessAllowed ? 'block' : 'none';\n",
              "\n",
              "      buttonEl.onclick = () => {\n",
              "        google.colab.notebook.generateWithVariable('smokedf');\n",
              "      }\n",
              "      })();\n",
              "    </script>\n",
              "  </div>\n",
              "\n",
              "    </div>\n",
              "  </div>\n"
            ],
            "application/vnd.google.colaboratory.intrinsic+json": {
              "type": "dataframe",
              "variable_name": "smokedf",
              "summary": "{\n  \"name\": \"smokedf\",\n  \"rows\": 10000,\n  \"fields\": [\n    {\n      \"column\": \"smoker\",\n      \"properties\": {\n        \"dtype\": \"number\",\n        \"std\": 0,\n        \"min\": 0,\n        \"max\": 1,\n        \"num_unique_values\": 2,\n        \"samples\": [\n          0,\n          1\n        ],\n        \"semantic_type\": \"\",\n        \"description\": \"\"\n      }\n    },\n    {\n      \"column\": \"smkban\",\n      \"properties\": {\n        \"dtype\": \"number\",\n        \"std\": 0,\n        \"min\": 0,\n        \"max\": 1,\n        \"num_unique_values\": 2,\n        \"samples\": [\n          0,\n          1\n        ],\n        \"semantic_type\": \"\",\n        \"description\": \"\"\n      }\n    },\n    {\n      \"column\": \"age\",\n      \"properties\": {\n        \"dtype\": \"number\",\n        \"std\": 12,\n        \"min\": 18,\n        \"max\": 88,\n        \"num_unique_values\": 65,\n        \"samples\": [\n          64,\n          72\n        ],\n        \"semantic_type\": \"\",\n        \"description\": \"\"\n      }\n    },\n    {\n      \"column\": \"hsdrop\",\n      \"properties\": {\n        \"dtype\": \"number\",\n        \"std\": 0,\n        \"min\": 0,\n        \"max\": 1,\n        \"num_unique_values\": 2,\n        \"samples\": [\n          1,\n          0\n        ],\n        \"semantic_type\": \"\",\n        \"description\": \"\"\n      }\n    },\n    {\n      \"column\": \"hsgrad\",\n      \"properties\": {\n        \"dtype\": \"number\",\n        \"std\": 0,\n        \"min\": 0,\n        \"max\": 1,\n        \"num_unique_values\": 2,\n        \"samples\": [\n          0,\n          1\n        ],\n        \"semantic_type\": \"\",\n        \"description\": \"\"\n      }\n    },\n    {\n      \"column\": \"colsome\",\n      \"properties\": {\n        \"dtype\": \"number\",\n        \"std\": 0,\n        \"min\": 0,\n        \"max\": 1,\n        \"num_unique_values\": 2,\n        \"samples\": [\n          1,\n          0\n        ],\n        \"semantic_type\": \"\",\n        \"description\": \"\"\n      }\n    },\n    {\n      \"column\": \"colgrad\",\n      \"properties\": {\n        \"dtype\": \"number\",\n        \"std\": 0,\n        \"min\": 0,\n        \"max\": 1,\n        \"num_unique_values\": 2,\n        \"samples\": [\n          1,\n          0\n        ],\n        \"semantic_type\": \"\",\n        \"description\": \"\"\n      }\n    },\n    {\n      \"column\": \"black\",\n      \"properties\": {\n        \"dtype\": \"number\",\n        \"std\": 0,\n        \"min\": 0,\n        \"max\": 1,\n        \"num_unique_values\": 2,\n        \"samples\": [\n          1,\n          0\n        ],\n        \"semantic_type\": \"\",\n        \"description\": \"\"\n      }\n    },\n    {\n      \"column\": \"hispanic\",\n      \"properties\": {\n        \"dtype\": \"number\",\n        \"std\": 0,\n        \"min\": 0,\n        \"max\": 1,\n        \"num_unique_values\": 2,\n        \"samples\": [\n          1,\n          0\n        ],\n        \"semantic_type\": \"\",\n        \"description\": \"\"\n      }\n    },\n    {\n      \"column\": \"female\",\n      \"properties\": {\n        \"dtype\": \"number\",\n        \"std\": 0,\n        \"min\": 0,\n        \"max\": 1,\n        \"num_unique_values\": 2,\n        \"samples\": [\n          0,\n          1\n        ],\n        \"semantic_type\": \"\",\n        \"description\": \"\"\n      }\n    }\n  ]\n}"
            }
          },
          "metadata": {},
          "execution_count": 7
        }
      ]
    },
    {
      "cell_type": "code",
      "source": [
        "# a)\n",
        "\n",
        "Ch11data[['smoker']].mean()"
      ],
      "metadata": {
        "colab": {
          "base_uri": "https://localhost:8080/"
        },
        "id": "SHJOH6pYpqDG",
        "outputId": "715534a6-ed0e-4447-b78a-ab56b09a7bc7"
      },
      "execution_count": null,
      "outputs": [
        {
          "output_type": "execute_result",
          "data": {
            "text/plain": [
              "smoker    0.2423\n",
              "dtype: float64"
            ]
          },
          "metadata": {},
          "execution_count": 8
        }
      ]
    },
    {
      "cell_type": "code",
      "source": [
        "means = Ch11data.groupby('smkban')['smoker'].mean()\n",
        "means"
      ],
      "metadata": {
        "colab": {
          "base_uri": "https://localhost:8080/"
        },
        "id": "Dq2Po3yKpynz",
        "outputId": "e846c8d1-1132-48e9-8c42-b6dce07a67f7"
      },
      "execution_count": null,
      "outputs": [
        {
          "output_type": "execute_result",
          "data": {
            "text/plain": [
              "smkban\n",
              "0    0.289595\n",
              "1    0.212037\n",
              "Name: smoker, dtype: float64"
            ]
          },
          "metadata": {},
          "execution_count": 10
        }
      ]
    },
    {
      "cell_type": "code",
      "source": [
        "# b)\n",
        "0.289595-0.212037"
      ],
      "metadata": {
        "colab": {
          "base_uri": "https://localhost:8080/"
        },
        "id": "P8tIs7E-qAPX",
        "outputId": "cba53a0a-63e6-4976-e48a-ed2323adcf76"
      },
      "execution_count": null,
      "outputs": [
        {
          "output_type": "execute_result",
          "data": {
            "text/plain": [
              "0.07755799999999999"
            ]
          },
          "metadata": {},
          "execution_count": 11
        }
      ]
    },
    {
      "cell_type": "code",
      "source": [
        "lin_prob = smf.ols(\"smoker ~ smkban\", data = smokedf)\n",
        "results = lin_prob.fit(cov_type='HC1')\n",
        "results.summary()"
      ],
      "metadata": {
        "colab": {
          "base_uri": "https://localhost:8080/",
          "height": 452
        },
        "id": "7q6dDw4jqFRj",
        "outputId": "35d33472-8137-489d-89c3-b58145ebd1ab"
      },
      "execution_count": null,
      "outputs": [
        {
          "output_type": "execute_result",
          "data": {
            "text/plain": [
              "<class 'statsmodels.iolib.summary.Summary'>\n",
              "\"\"\"\n",
              "                            OLS Regression Results                            \n",
              "==============================================================================\n",
              "Dep. Variable:                 smoker   R-squared:                       0.008\n",
              "Model:                            OLS   Adj. R-squared:                  0.008\n",
              "Method:                 Least Squares   F-statistic:                     75.06\n",
              "Date:                Fri, 15 Mar 2024   Prob (F-statistic):           5.27e-18\n",
              "Time:                        01:09:48   Log-Likelihood:                -5675.0\n",
              "No. Observations:               10000   AIC:                         1.135e+04\n",
              "Df Residuals:                    9998   BIC:                         1.137e+04\n",
              "Df Model:                           1                                         \n",
              "Covariance Type:                  HC1                                         \n",
              "==============================================================================\n",
              "                 coef    std err          z      P>|z|      [0.025      0.975]\n",
              "------------------------------------------------------------------------------\n",
              "Intercept      0.2896      0.007     39.879      0.000       0.275       0.304\n",
              "smkban        -0.0776      0.009     -8.664      0.000      -0.095      -0.060\n",
              "==============================================================================\n",
              "Omnibus:                     1765.260   Durbin-Watson:                   1.851\n",
              "Prob(Omnibus):                  0.000   Jarque-Bera (JB):             2479.745\n",
              "Skew:                           1.189   Prob(JB):                         0.00\n",
              "Kurtosis:                       2.458   Cond. No.                         2.96\n",
              "==============================================================================\n",
              "\n",
              "Notes:\n",
              "[1] Standard Errors are heteroscedasticity robust (HC1)\n",
              "\"\"\""
            ],
            "text/html": [
              "<table class=\"simpletable\">\n",
              "<caption>OLS Regression Results</caption>\n",
              "<tr>\n",
              "  <th>Dep. Variable:</th>         <td>smoker</td>      <th>  R-squared:         </th> <td>   0.008</td> \n",
              "</tr>\n",
              "<tr>\n",
              "  <th>Model:</th>                   <td>OLS</td>       <th>  Adj. R-squared:    </th> <td>   0.008</td> \n",
              "</tr>\n",
              "<tr>\n",
              "  <th>Method:</th>             <td>Least Squares</td>  <th>  F-statistic:       </th> <td>   75.06</td> \n",
              "</tr>\n",
              "<tr>\n",
              "  <th>Date:</th>             <td>Fri, 15 Mar 2024</td> <th>  Prob (F-statistic):</th> <td>5.27e-18</td> \n",
              "</tr>\n",
              "<tr>\n",
              "  <th>Time:</th>                 <td>01:09:48</td>     <th>  Log-Likelihood:    </th> <td> -5675.0</td> \n",
              "</tr>\n",
              "<tr>\n",
              "  <th>No. Observations:</th>      <td> 10000</td>      <th>  AIC:               </th> <td>1.135e+04</td>\n",
              "</tr>\n",
              "<tr>\n",
              "  <th>Df Residuals:</th>          <td>  9998</td>      <th>  BIC:               </th> <td>1.137e+04</td>\n",
              "</tr>\n",
              "<tr>\n",
              "  <th>Df Model:</th>              <td>     1</td>      <th>                     </th>     <td> </td>    \n",
              "</tr>\n",
              "<tr>\n",
              "  <th>Covariance Type:</th>         <td>HC1</td>       <th>                     </th>     <td> </td>    \n",
              "</tr>\n",
              "</table>\n",
              "<table class=\"simpletable\">\n",
              "<tr>\n",
              "      <td></td>         <th>coef</th>     <th>std err</th>      <th>z</th>      <th>P>|z|</th>  <th>[0.025</th>    <th>0.975]</th>  \n",
              "</tr>\n",
              "<tr>\n",
              "  <th>Intercept</th> <td>    0.2896</td> <td>    0.007</td> <td>   39.879</td> <td> 0.000</td> <td>    0.275</td> <td>    0.304</td>\n",
              "</tr>\n",
              "<tr>\n",
              "  <th>smkban</th>    <td>   -0.0776</td> <td>    0.009</td> <td>   -8.664</td> <td> 0.000</td> <td>   -0.095</td> <td>   -0.060</td>\n",
              "</tr>\n",
              "</table>\n",
              "<table class=\"simpletable\">\n",
              "<tr>\n",
              "  <th>Omnibus:</th>       <td>1765.260</td> <th>  Durbin-Watson:     </th> <td>   1.851</td>\n",
              "</tr>\n",
              "<tr>\n",
              "  <th>Prob(Omnibus):</th>  <td> 0.000</td>  <th>  Jarque-Bera (JB):  </th> <td>2479.745</td>\n",
              "</tr>\n",
              "<tr>\n",
              "  <th>Skew:</th>           <td> 1.189</td>  <th>  Prob(JB):          </th> <td>    0.00</td>\n",
              "</tr>\n",
              "<tr>\n",
              "  <th>Kurtosis:</th>       <td> 2.458</td>  <th>  Cond. No.          </th> <td>    2.96</td>\n",
              "</tr>\n",
              "</table><br/><br/>Notes:<br/>[1] Standard Errors are heteroscedasticity robust (HC1)"
            ],
            "text/latex": "\\begin{center}\n\\begin{tabular}{lclc}\n\\toprule\n\\textbf{Dep. Variable:}    &      smoker      & \\textbf{  R-squared:         } &     0.008   \\\\\n\\textbf{Model:}            &       OLS        & \\textbf{  Adj. R-squared:    } &     0.008   \\\\\n\\textbf{Method:}           &  Least Squares   & \\textbf{  F-statistic:       } &     75.06   \\\\\n\\textbf{Date:}             & Fri, 15 Mar 2024 & \\textbf{  Prob (F-statistic):} &  5.27e-18   \\\\\n\\textbf{Time:}             &     01:09:48     & \\textbf{  Log-Likelihood:    } &   -5675.0   \\\\\n\\textbf{No. Observations:} &       10000      & \\textbf{  AIC:               } & 1.135e+04   \\\\\n\\textbf{Df Residuals:}     &        9998      & \\textbf{  BIC:               } & 1.137e+04   \\\\\n\\textbf{Df Model:}         &           1      & \\textbf{                     } &             \\\\\n\\textbf{Covariance Type:}  &       HC1        & \\textbf{                     } &             \\\\\n\\bottomrule\n\\end{tabular}\n\\begin{tabular}{lcccccc}\n                   & \\textbf{coef} & \\textbf{std err} & \\textbf{z} & \\textbf{P$> |$z$|$} & \\textbf{[0.025} & \\textbf{0.975]}  \\\\\n\\midrule\n\\textbf{Intercept} &       0.2896  &        0.007     &    39.879  &         0.000        &        0.275    &        0.304     \\\\\n\\textbf{smkban}    &      -0.0776  &        0.009     &    -8.664  &         0.000        &       -0.095    &       -0.060     \\\\\n\\bottomrule\n\\end{tabular}\n\\begin{tabular}{lclc}\n\\textbf{Omnibus:}       & 1765.260 & \\textbf{  Durbin-Watson:     } &    1.851  \\\\\n\\textbf{Prob(Omnibus):} &   0.000  & \\textbf{  Jarque-Bera (JB):  } & 2479.745  \\\\\n\\textbf{Skew:}          &   1.189  & \\textbf{  Prob(JB):          } &     0.00  \\\\\n\\textbf{Kurtosis:}      &   2.458  & \\textbf{  Cond. No.          } &     2.96  \\\\\n\\bottomrule\n\\end{tabular}\n%\\caption{OLS Regression Results}\n\\end{center}\n\nNotes: \\newline\n [1] Standard Errors are heteroscedasticity robust (HC1)"
          },
          "metadata": {},
          "execution_count": 12
        }
      ]
    },
    {
      "cell_type": "code",
      "source": [
        "# c)\n",
        "\n",
        "smokedf[\"age2\"] = smokedf[\"age\"]**2\n",
        "print(smokedf)"
      ],
      "metadata": {
        "colab": {
          "base_uri": "https://localhost:8080/"
        },
        "id": "1xm50WhlqIt2",
        "outputId": "77cd0b8d-212d-49be-d759-b79df601ab38"
      },
      "execution_count": null,
      "outputs": [
        {
          "output_type": "stream",
          "name": "stdout",
          "text": [
            "      smoker  smkban  age  hsdrop  hsgrad  colsome  colgrad  black  hispanic  \\\n",
            "0          1       1   41       0       1        0        0      0         0   \n",
            "1          1       1   44       0       0        1        0      0         0   \n",
            "2          0       0   19       0       0        1        0      0         0   \n",
            "3          1       0   29       0       1        0        0      0         0   \n",
            "4          0       1   28       0       0        1        0      0         0   \n",
            "...      ...     ...  ...     ...     ...      ...      ...    ...       ...   \n",
            "9995       0       0   55       0       1        0        0      0         0   \n",
            "9996       0       0   31       0       0        0        0      0         0   \n",
            "9997       0       1   36       0       0        1        0      0         0   \n",
            "9998       1       0   42       0       1        0        0      0         0   \n",
            "9999       0       1   35       0       0        1        0      0         0   \n",
            "\n",
            "      female  age2  \n",
            "0          1  1681  \n",
            "1          1  1936  \n",
            "2          1   361  \n",
            "3          1   841  \n",
            "4          1   784  \n",
            "...      ...   ...  \n",
            "9995       0  3025  \n",
            "9996       0   961  \n",
            "9997       1  1296  \n",
            "9998       1  1764  \n",
            "9999       0  1225  \n",
            "\n",
            "[10000 rows x 11 columns]\n"
          ]
        }
      ]
    },
    {
      "cell_type": "code",
      "source": [
        "lin_prob_multi = smf.ols(\"smoker ~ smkban + female + age + age2 + hsdrop + hsgrad + \\\n",
        "        colsome + colgrad + black + hispanic\", data = smokedf)\n",
        "\n",
        "lin_prob_results = lin_prob_multi.fit(cov_type = 'HC1')\n",
        "\n",
        "lin_prob_results.summary()"
      ],
      "metadata": {
        "colab": {
          "base_uri": "https://localhost:8080/",
          "height": 679
        },
        "id": "oyZ_t1VoqM58",
        "outputId": "96a1acdb-2ad6-4ae9-ebba-11a11b6fe7c1"
      },
      "execution_count": null,
      "outputs": [
        {
          "output_type": "execute_result",
          "data": {
            "text/plain": [
              "<class 'statsmodels.iolib.summary.Summary'>\n",
              "\"\"\"\n",
              "                            OLS Regression Results                            \n",
              "==============================================================================\n",
              "Dep. Variable:                 smoker   R-squared:                       0.057\n",
              "Model:                            OLS   Adj. R-squared:                  0.056\n",
              "Method:                 Least Squares   F-statistic:                     68.75\n",
              "Date:                Fri, 15 Mar 2024   Prob (F-statistic):          1.92e-136\n",
              "Time:                        01:10:19   Log-Likelihood:                -5420.7\n",
              "No. Observations:               10000   AIC:                         1.086e+04\n",
              "Df Residuals:                    9989   BIC:                         1.094e+04\n",
              "Df Model:                          10                                         \n",
              "Covariance Type:                  HC1                                         \n",
              "==============================================================================\n",
              "                 coef    std err          z      P>|z|      [0.025      0.975]\n",
              "------------------------------------------------------------------------------\n",
              "Intercept     -0.0141      0.041     -0.341      0.733      -0.095       0.067\n",
              "smkban        -0.0472      0.009     -5.269      0.000      -0.065      -0.030\n",
              "female        -0.0333      0.009     -3.881      0.000      -0.050      -0.016\n",
              "age            0.0097      0.002      5.104      0.000       0.006       0.013\n",
              "age2          -0.0001   2.19e-05     -6.017      0.000      -0.000   -8.89e-05\n",
              "hsdrop         0.3227      0.019     16.559      0.000       0.285       0.361\n",
              "hsgrad         0.2327      0.013     18.483      0.000       0.208       0.257\n",
              "colsome        0.1643      0.013     13.014      0.000       0.140       0.189\n",
              "colgrad        0.0448      0.012      3.720      0.000       0.021       0.068\n",
              "black         -0.0276      0.016     -1.714      0.086      -0.059       0.004\n",
              "hispanic      -0.1048      0.014     -7.500      0.000      -0.132      -0.077\n",
              "==============================================================================\n",
              "Omnibus:                     1557.853   Durbin-Watson:                   1.875\n",
              "Prob(Omnibus):                  0.000   Jarque-Bera (JB):             2100.981\n",
              "Skew:                           1.093   Prob(JB):                         0.00\n",
              "Kurtosis:                       2.486   Cond. No.                     2.11e+04\n",
              "==============================================================================\n",
              "\n",
              "Notes:\n",
              "[1] Standard Errors are heteroscedasticity robust (HC1)\n",
              "[2] The condition number is large, 2.11e+04. This might indicate that there are\n",
              "strong multicollinearity or other numerical problems.\n",
              "\"\"\""
            ],
            "text/html": [
              "<table class=\"simpletable\">\n",
              "<caption>OLS Regression Results</caption>\n",
              "<tr>\n",
              "  <th>Dep. Variable:</th>         <td>smoker</td>      <th>  R-squared:         </th> <td>   0.057</td> \n",
              "</tr>\n",
              "<tr>\n",
              "  <th>Model:</th>                   <td>OLS</td>       <th>  Adj. R-squared:    </th> <td>   0.056</td> \n",
              "</tr>\n",
              "<tr>\n",
              "  <th>Method:</th>             <td>Least Squares</td>  <th>  F-statistic:       </th> <td>   68.75</td> \n",
              "</tr>\n",
              "<tr>\n",
              "  <th>Date:</th>             <td>Fri, 15 Mar 2024</td> <th>  Prob (F-statistic):</th> <td>1.92e-136</td>\n",
              "</tr>\n",
              "<tr>\n",
              "  <th>Time:</th>                 <td>01:10:19</td>     <th>  Log-Likelihood:    </th> <td> -5420.7</td> \n",
              "</tr>\n",
              "<tr>\n",
              "  <th>No. Observations:</th>      <td> 10000</td>      <th>  AIC:               </th> <td>1.086e+04</td>\n",
              "</tr>\n",
              "<tr>\n",
              "  <th>Df Residuals:</th>          <td>  9989</td>      <th>  BIC:               </th> <td>1.094e+04</td>\n",
              "</tr>\n",
              "<tr>\n",
              "  <th>Df Model:</th>              <td>    10</td>      <th>                     </th>     <td> </td>    \n",
              "</tr>\n",
              "<tr>\n",
              "  <th>Covariance Type:</th>         <td>HC1</td>       <th>                     </th>     <td> </td>    \n",
              "</tr>\n",
              "</table>\n",
              "<table class=\"simpletable\">\n",
              "<tr>\n",
              "      <td></td>         <th>coef</th>     <th>std err</th>      <th>z</th>      <th>P>|z|</th>  <th>[0.025</th>    <th>0.975]</th>  \n",
              "</tr>\n",
              "<tr>\n",
              "  <th>Intercept</th> <td>   -0.0141</td> <td>    0.041</td> <td>   -0.341</td> <td> 0.733</td> <td>   -0.095</td> <td>    0.067</td>\n",
              "</tr>\n",
              "<tr>\n",
              "  <th>smkban</th>    <td>   -0.0472</td> <td>    0.009</td> <td>   -5.269</td> <td> 0.000</td> <td>   -0.065</td> <td>   -0.030</td>\n",
              "</tr>\n",
              "<tr>\n",
              "  <th>female</th>    <td>   -0.0333</td> <td>    0.009</td> <td>   -3.881</td> <td> 0.000</td> <td>   -0.050</td> <td>   -0.016</td>\n",
              "</tr>\n",
              "<tr>\n",
              "  <th>age</th>       <td>    0.0097</td> <td>    0.002</td> <td>    5.104</td> <td> 0.000</td> <td>    0.006</td> <td>    0.013</td>\n",
              "</tr>\n",
              "<tr>\n",
              "  <th>age2</th>      <td>   -0.0001</td> <td> 2.19e-05</td> <td>   -6.017</td> <td> 0.000</td> <td>   -0.000</td> <td>-8.89e-05</td>\n",
              "</tr>\n",
              "<tr>\n",
              "  <th>hsdrop</th>    <td>    0.3227</td> <td>    0.019</td> <td>   16.559</td> <td> 0.000</td> <td>    0.285</td> <td>    0.361</td>\n",
              "</tr>\n",
              "<tr>\n",
              "  <th>hsgrad</th>    <td>    0.2327</td> <td>    0.013</td> <td>   18.483</td> <td> 0.000</td> <td>    0.208</td> <td>    0.257</td>\n",
              "</tr>\n",
              "<tr>\n",
              "  <th>colsome</th>   <td>    0.1643</td> <td>    0.013</td> <td>   13.014</td> <td> 0.000</td> <td>    0.140</td> <td>    0.189</td>\n",
              "</tr>\n",
              "<tr>\n",
              "  <th>colgrad</th>   <td>    0.0448</td> <td>    0.012</td> <td>    3.720</td> <td> 0.000</td> <td>    0.021</td> <td>    0.068</td>\n",
              "</tr>\n",
              "<tr>\n",
              "  <th>black</th>     <td>   -0.0276</td> <td>    0.016</td> <td>   -1.714</td> <td> 0.086</td> <td>   -0.059</td> <td>    0.004</td>\n",
              "</tr>\n",
              "<tr>\n",
              "  <th>hispanic</th>  <td>   -0.1048</td> <td>    0.014</td> <td>   -7.500</td> <td> 0.000</td> <td>   -0.132</td> <td>   -0.077</td>\n",
              "</tr>\n",
              "</table>\n",
              "<table class=\"simpletable\">\n",
              "<tr>\n",
              "  <th>Omnibus:</th>       <td>1557.853</td> <th>  Durbin-Watson:     </th> <td>   1.875</td>\n",
              "</tr>\n",
              "<tr>\n",
              "  <th>Prob(Omnibus):</th>  <td> 0.000</td>  <th>  Jarque-Bera (JB):  </th> <td>2100.981</td>\n",
              "</tr>\n",
              "<tr>\n",
              "  <th>Skew:</th>           <td> 1.093</td>  <th>  Prob(JB):          </th> <td>    0.00</td>\n",
              "</tr>\n",
              "<tr>\n",
              "  <th>Kurtosis:</th>       <td> 2.486</td>  <th>  Cond. No.          </th> <td>2.11e+04</td>\n",
              "</tr>\n",
              "</table><br/><br/>Notes:<br/>[1] Standard Errors are heteroscedasticity robust (HC1)<br/>[2] The condition number is large, 2.11e+04. This might indicate that there are<br/>strong multicollinearity or other numerical problems."
            ],
            "text/latex": "\\begin{center}\n\\begin{tabular}{lclc}\n\\toprule\n\\textbf{Dep. Variable:}    &      smoker      & \\textbf{  R-squared:         } &     0.057   \\\\\n\\textbf{Model:}            &       OLS        & \\textbf{  Adj. R-squared:    } &     0.056   \\\\\n\\textbf{Method:}           &  Least Squares   & \\textbf{  F-statistic:       } &     68.75   \\\\\n\\textbf{Date:}             & Fri, 15 Mar 2024 & \\textbf{  Prob (F-statistic):} & 1.92e-136   \\\\\n\\textbf{Time:}             &     01:10:19     & \\textbf{  Log-Likelihood:    } &   -5420.7   \\\\\n\\textbf{No. Observations:} &       10000      & \\textbf{  AIC:               } & 1.086e+04   \\\\\n\\textbf{Df Residuals:}     &        9989      & \\textbf{  BIC:               } & 1.094e+04   \\\\\n\\textbf{Df Model:}         &          10      & \\textbf{                     } &             \\\\\n\\textbf{Covariance Type:}  &       HC1        & \\textbf{                     } &             \\\\\n\\bottomrule\n\\end{tabular}\n\\begin{tabular}{lcccccc}\n                   & \\textbf{coef} & \\textbf{std err} & \\textbf{z} & \\textbf{P$> |$z$|$} & \\textbf{[0.025} & \\textbf{0.975]}  \\\\\n\\midrule\n\\textbf{Intercept} &      -0.0141  &        0.041     &    -0.341  &         0.733        &       -0.095    &        0.067     \\\\\n\\textbf{smkban}    &      -0.0472  &        0.009     &    -5.269  &         0.000        &       -0.065    &       -0.030     \\\\\n\\textbf{female}    &      -0.0333  &        0.009     &    -3.881  &         0.000        &       -0.050    &       -0.016     \\\\\n\\textbf{age}       &       0.0097  &        0.002     &     5.104  &         0.000        &        0.006    &        0.013     \\\\\n\\textbf{age2}      &      -0.0001  &     2.19e-05     &    -6.017  &         0.000        &       -0.000    &    -8.89e-05     \\\\\n\\textbf{hsdrop}    &       0.3227  &        0.019     &    16.559  &         0.000        &        0.285    &        0.361     \\\\\n\\textbf{hsgrad}    &       0.2327  &        0.013     &    18.483  &         0.000        &        0.208    &        0.257     \\\\\n\\textbf{colsome}   &       0.1643  &        0.013     &    13.014  &         0.000        &        0.140    &        0.189     \\\\\n\\textbf{colgrad}   &       0.0448  &        0.012     &     3.720  &         0.000        &        0.021    &        0.068     \\\\\n\\textbf{black}     &      -0.0276  &        0.016     &    -1.714  &         0.086        &       -0.059    &        0.004     \\\\\n\\textbf{hispanic}  &      -0.1048  &        0.014     &    -7.500  &         0.000        &       -0.132    &       -0.077     \\\\\n\\bottomrule\n\\end{tabular}\n\\begin{tabular}{lclc}\n\\textbf{Omnibus:}       & 1557.853 & \\textbf{  Durbin-Watson:     } &    1.875  \\\\\n\\textbf{Prob(Omnibus):} &   0.000  & \\textbf{  Jarque-Bera (JB):  } & 2100.981  \\\\\n\\textbf{Skew:}          &   1.093  & \\textbf{  Prob(JB):          } &     0.00  \\\\\n\\textbf{Kurtosis:}      &   2.486  & \\textbf{  Cond. No.          } & 2.11e+04  \\\\\n\\bottomrule\n\\end{tabular}\n%\\caption{OLS Regression Results}\n\\end{center}\n\nNotes: \\newline\n [1] Standard Errors are heteroscedasticity robust (HC1) \\newline\n [2] The condition number is large, 2.11e+04. This might indicate that there are \\newline\n strong multicollinearity or other numerical problems."
          },
          "metadata": {},
          "execution_count": 14
        }
      ]
    },
    {
      "cell_type": "code",
      "source": [
        "# d)\n",
        "\n",
        "# The test statistic is -5.269 which in absolute value is greater than 1.96, thus, we reject the null\n",
        "# hypothesis at the 5% significance level."
      ],
      "metadata": {
        "id": "3td2r36IqQR0"
      },
      "execution_count": null,
      "outputs": []
    },
    {
      "cell_type": "code",
      "source": [
        "# e)\n",
        "\n",
        "age_hypotheses = '(hsdrop = 0), (hsgrad = 0), (colsome = 0), (colgrad = 0)'\n",
        "\n",
        "f_test = lin_prob_results.f_test(age_hypotheses)\n",
        "\n",
        "print(f_test)"
      ],
      "metadata": {
        "colab": {
          "base_uri": "https://localhost:8080/"
        },
        "id": "WZIDz14OqVIt",
        "outputId": "b6c35561-9748-4acb-db09-2a8eee16e9ac"
      },
      "execution_count": null,
      "outputs": [
        {
          "output_type": "stream",
          "name": "stdout",
          "text": [
            "<F test: F=140.08992445045968, p=1.0846809960250739e-116, df_denom=9.99e+03, df_num=4>\n"
          ]
        }
      ]
    },
    {
      "cell_type": "code",
      "source": [
        "# f) Estimate the probit model.\n",
        "\n",
        "Probit = smf.probit(\"smoker ~ smkban + female + age + age2 + hsdrop + hsgrad + colsome + \\\n",
        "            colgrad + black + hispanic\", data=smokedf)\n",
        "\n",
        "Probit_results = Probit.fit(cov_type='HC1')\n",
        "\n",
        "Probit_results.summary()"
      ],
      "metadata": {
        "colab": {
          "base_uri": "https://localhost:8080/",
          "height": 496
        },
        "id": "QOOW9nY6qbea",
        "outputId": "57316e28-b7c9-434f-9956-68d4f30921b5"
      },
      "execution_count": null,
      "outputs": [
        {
          "output_type": "stream",
          "name": "stdout",
          "text": [
            "Optimization terminated successfully.\n",
            "         Current function value: 0.523587\n",
            "         Iterations 6\n"
          ]
        },
        {
          "output_type": "execute_result",
          "data": {
            "text/plain": [
              "<class 'statsmodels.iolib.summary.Summary'>\n",
              "\"\"\"\n",
              "                          Probit Regression Results                           \n",
              "==============================================================================\n",
              "Dep. Variable:                 smoker   No. Observations:                10000\n",
              "Model:                         Probit   Df Residuals:                     9989\n",
              "Method:                           MLE   Df Model:                           10\n",
              "Date:                Fri, 15 Mar 2024   Pseudo R-squ.:                 0.05441\n",
              "Time:                        01:11:19   Log-Likelihood:                -5235.9\n",
              "converged:                       True   LL-Null:                       -5537.2\n",
              "Covariance Type:                  HC1   LLR p-value:                4.891e-123\n",
              "==============================================================================\n",
              "                 coef    std err          z      P>|z|      [0.025      0.975]\n",
              "------------------------------------------------------------------------------\n",
              "Intercept     -1.7349      0.152    -11.416      0.000      -2.033      -1.437\n",
              "smkban        -0.1586      0.029     -5.450      0.000      -0.216      -0.102\n",
              "female        -0.1117      0.029     -3.874      0.000      -0.168      -0.055\n",
              "age            0.0345      0.007      5.014      0.000       0.021       0.048\n",
              "age2          -0.0005   8.26e-05     -5.657      0.000      -0.001      -0.000\n",
              "hsdrop         1.1416      0.073     15.646      0.000       0.999       1.285\n",
              "hsgrad         0.8827      0.060     14.622      0.000       0.764       1.001\n",
              "colsome        0.6771      0.061     11.021      0.000       0.557       0.798\n",
              "colgrad        0.2347      0.065      3.588      0.000       0.106       0.363\n",
              "black         -0.0843      0.053     -1.577      0.115      -0.189       0.020\n",
              "hispanic      -0.3383      0.049     -6.855      0.000      -0.435      -0.242\n",
              "==============================================================================\n",
              "\"\"\""
            ],
            "text/html": [
              "<table class=\"simpletable\">\n",
              "<caption>Probit Regression Results</caption>\n",
              "<tr>\n",
              "  <th>Dep. Variable:</th>        <td>smoker</td>      <th>  No. Observations:  </th>   <td> 10000</td>  \n",
              "</tr>\n",
              "<tr>\n",
              "  <th>Model:</th>                <td>Probit</td>      <th>  Df Residuals:      </th>   <td>  9989</td>  \n",
              "</tr>\n",
              "<tr>\n",
              "  <th>Method:</th>                 <td>MLE</td>       <th>  Df Model:          </th>   <td>    10</td>  \n",
              "</tr>\n",
              "<tr>\n",
              "  <th>Date:</th>            <td>Fri, 15 Mar 2024</td> <th>  Pseudo R-squ.:     </th>   <td>0.05441</td> \n",
              "</tr>\n",
              "<tr>\n",
              "  <th>Time:</th>                <td>01:11:19</td>     <th>  Log-Likelihood:    </th>  <td> -5235.9</td> \n",
              "</tr>\n",
              "<tr>\n",
              "  <th>converged:</th>             <td>True</td>       <th>  LL-Null:           </th>  <td> -5537.2</td> \n",
              "</tr>\n",
              "<tr>\n",
              "  <th>Covariance Type:</th>        <td>HC1</td>       <th>  LLR p-value:       </th> <td>4.891e-123</td>\n",
              "</tr>\n",
              "</table>\n",
              "<table class=\"simpletable\">\n",
              "<tr>\n",
              "      <td></td>         <th>coef</th>     <th>std err</th>      <th>z</th>      <th>P>|z|</th>  <th>[0.025</th>    <th>0.975]</th>  \n",
              "</tr>\n",
              "<tr>\n",
              "  <th>Intercept</th> <td>   -1.7349</td> <td>    0.152</td> <td>  -11.416</td> <td> 0.000</td> <td>   -2.033</td> <td>   -1.437</td>\n",
              "</tr>\n",
              "<tr>\n",
              "  <th>smkban</th>    <td>   -0.1586</td> <td>    0.029</td> <td>   -5.450</td> <td> 0.000</td> <td>   -0.216</td> <td>   -0.102</td>\n",
              "</tr>\n",
              "<tr>\n",
              "  <th>female</th>    <td>   -0.1117</td> <td>    0.029</td> <td>   -3.874</td> <td> 0.000</td> <td>   -0.168</td> <td>   -0.055</td>\n",
              "</tr>\n",
              "<tr>\n",
              "  <th>age</th>       <td>    0.0345</td> <td>    0.007</td> <td>    5.014</td> <td> 0.000</td> <td>    0.021</td> <td>    0.048</td>\n",
              "</tr>\n",
              "<tr>\n",
              "  <th>age2</th>      <td>   -0.0005</td> <td> 8.26e-05</td> <td>   -5.657</td> <td> 0.000</td> <td>   -0.001</td> <td>   -0.000</td>\n",
              "</tr>\n",
              "<tr>\n",
              "  <th>hsdrop</th>    <td>    1.1416</td> <td>    0.073</td> <td>   15.646</td> <td> 0.000</td> <td>    0.999</td> <td>    1.285</td>\n",
              "</tr>\n",
              "<tr>\n",
              "  <th>hsgrad</th>    <td>    0.8827</td> <td>    0.060</td> <td>   14.622</td> <td> 0.000</td> <td>    0.764</td> <td>    1.001</td>\n",
              "</tr>\n",
              "<tr>\n",
              "  <th>colsome</th>   <td>    0.6771</td> <td>    0.061</td> <td>   11.021</td> <td> 0.000</td> <td>    0.557</td> <td>    0.798</td>\n",
              "</tr>\n",
              "<tr>\n",
              "  <th>colgrad</th>   <td>    0.2347</td> <td>    0.065</td> <td>    3.588</td> <td> 0.000</td> <td>    0.106</td> <td>    0.363</td>\n",
              "</tr>\n",
              "<tr>\n",
              "  <th>black</th>     <td>   -0.0843</td> <td>    0.053</td> <td>   -1.577</td> <td> 0.115</td> <td>   -0.189</td> <td>    0.020</td>\n",
              "</tr>\n",
              "<tr>\n",
              "  <th>hispanic</th>  <td>   -0.3383</td> <td>    0.049</td> <td>   -6.855</td> <td> 0.000</td> <td>   -0.435</td> <td>   -0.242</td>\n",
              "</tr>\n",
              "</table>"
            ],
            "text/latex": "\\begin{center}\n\\begin{tabular}{lclc}\n\\toprule\n\\textbf{Dep. Variable:}   &      smoker      & \\textbf{  No. Observations:  } &    10000    \\\\\n\\textbf{Model:}           &      Probit      & \\textbf{  Df Residuals:      } &     9989    \\\\\n\\textbf{Method:}          &       MLE        & \\textbf{  Df Model:          } &       10    \\\\\n\\textbf{Date:}            & Fri, 15 Mar 2024 & \\textbf{  Pseudo R-squ.:     } &  0.05441    \\\\\n\\textbf{Time:}            &     01:11:19     & \\textbf{  Log-Likelihood:    } &   -5235.9   \\\\\n\\textbf{converged:}       &       True       & \\textbf{  LL-Null:           } &   -5537.2   \\\\\n\\textbf{Covariance Type:} &       HC1        & \\textbf{  LLR p-value:       } & 4.891e-123  \\\\\n\\bottomrule\n\\end{tabular}\n\\begin{tabular}{lcccccc}\n                   & \\textbf{coef} & \\textbf{std err} & \\textbf{z} & \\textbf{P$> |$z$|$} & \\textbf{[0.025} & \\textbf{0.975]}  \\\\\n\\midrule\n\\textbf{Intercept} &      -1.7349  &        0.152     &   -11.416  &         0.000        &       -2.033    &       -1.437     \\\\\n\\textbf{smkban}    &      -0.1586  &        0.029     &    -5.450  &         0.000        &       -0.216    &       -0.102     \\\\\n\\textbf{female}    &      -0.1117  &        0.029     &    -3.874  &         0.000        &       -0.168    &       -0.055     \\\\\n\\textbf{age}       &       0.0345  &        0.007     &     5.014  &         0.000        &        0.021    &        0.048     \\\\\n\\textbf{age2}      &      -0.0005  &     8.26e-05     &    -5.657  &         0.000        &       -0.001    &       -0.000     \\\\\n\\textbf{hsdrop}    &       1.1416  &        0.073     &    15.646  &         0.000        &        0.999    &        1.285     \\\\\n\\textbf{hsgrad}    &       0.8827  &        0.060     &    14.622  &         0.000        &        0.764    &        1.001     \\\\\n\\textbf{colsome}   &       0.6771  &        0.061     &    11.021  &         0.000        &        0.557    &        0.798     \\\\\n\\textbf{colgrad}   &       0.2347  &        0.065     &     3.588  &         0.000        &        0.106    &        0.363     \\\\\n\\textbf{black}     &      -0.0843  &        0.053     &    -1.577  &         0.115        &       -0.189    &        0.020     \\\\\n\\textbf{hispanic}  &      -0.3383  &        0.049     &    -6.855  &         0.000        &       -0.435    &       -0.242     \\\\\n\\bottomrule\n\\end{tabular}\n%\\caption{Probit Regression Results}\n\\end{center}"
          },
          "metadata": {},
          "execution_count": 16
        }
      ]
    },
    {
      "cell_type": "code",
      "source": [
        "f_test = Probit_results.f_test(age_hypotheses)\n",
        "print(f_test)"
      ],
      "metadata": {
        "colab": {
          "base_uri": "https://localhost:8080/"
        },
        "id": "atemRlh-qgQd",
        "outputId": "9379db45-6c4e-421e-b150-6da7e879143c"
      },
      "execution_count": null,
      "outputs": [
        {
          "output_type": "stream",
          "name": "stdout",
          "text": [
            "<F test: F=111.84500698746761, p=1.9858037160655417e-93, df_denom=9.99e+03, df_num=4>\n"
          ]
        }
      ]
    },
    {
      "cell_type": "code",
      "source": [
        "# g) Estimate the logit model.\n",
        "\n",
        "Logit = smf.logit(\"smoker ~ smkban + female + age + age2 + hsdrop + hsgrad + colsome + \\\n",
        "            colgrad + black + hispanic\", data = smokedf)\n",
        "\n",
        "Logit_results = Logit.fit(cov_type = 'HC1')\n",
        "\n",
        "Logit_results.summary()"
      ],
      "metadata": {
        "colab": {
          "base_uri": "https://localhost:8080/",
          "height": 496
        },
        "id": "_9ApKaciqln9",
        "outputId": "278e97de-2b65-48ca-e298-94cfcc6118a5"
      },
      "execution_count": null,
      "outputs": [
        {
          "output_type": "stream",
          "name": "stdout",
          "text": [
            "Optimization terminated successfully.\n",
            "         Current function value: 0.523400\n",
            "         Iterations 6\n"
          ]
        },
        {
          "output_type": "execute_result",
          "data": {
            "text/plain": [
              "<class 'statsmodels.iolib.summary.Summary'>\n",
              "\"\"\"\n",
              "                           Logit Regression Results                           \n",
              "==============================================================================\n",
              "Dep. Variable:                 smoker   No. Observations:                10000\n",
              "Model:                          Logit   Df Residuals:                     9989\n",
              "Method:                           MLE   Df Model:                           10\n",
              "Date:                Fri, 15 Mar 2024   Pseudo R-squ.:                 0.05475\n",
              "Time:                        01:11:55   Log-Likelihood:                -5234.0\n",
              "converged:                       True   LL-Null:                       -5537.2\n",
              "Covariance Type:                  HC1   LLR p-value:                7.731e-124\n",
              "==============================================================================\n",
              "                 coef    std err          z      P>|z|      [0.025      0.975]\n",
              "------------------------------------------------------------------------------\n",
              "Intercept     -2.9992      0.265    -11.308      0.000      -3.519      -2.479\n",
              "smkban        -0.2620      0.049     -5.296      0.000      -0.359      -0.165\n",
              "female        -0.1908      0.049     -3.880      0.000      -0.287      -0.094\n",
              "age            0.0599      0.012      5.070      0.000       0.037       0.083\n",
              "age2          -0.0008      0.000     -5.716      0.000      -0.001      -0.001\n",
              "hsdrop         2.0169      0.134     15.049      0.000       1.754       2.280\n",
              "hsgrad         1.5785      0.116     13.636      0.000       1.352       1.805\n",
              "colsome        1.2300      0.118     10.455      0.000       0.999       1.461\n",
              "colgrad        0.4466      0.126      3.534      0.000       0.199       0.694\n",
              "black         -0.1560      0.091     -1.710      0.087      -0.335       0.023\n",
              "hispanic      -0.5972      0.086     -6.929      0.000      -0.766      -0.428\n",
              "==============================================================================\n",
              "\"\"\""
            ],
            "text/html": [
              "<table class=\"simpletable\">\n",
              "<caption>Logit Regression Results</caption>\n",
              "<tr>\n",
              "  <th>Dep. Variable:</th>        <td>smoker</td>      <th>  No. Observations:  </th>   <td> 10000</td>  \n",
              "</tr>\n",
              "<tr>\n",
              "  <th>Model:</th>                 <td>Logit</td>      <th>  Df Residuals:      </th>   <td>  9989</td>  \n",
              "</tr>\n",
              "<tr>\n",
              "  <th>Method:</th>                 <td>MLE</td>       <th>  Df Model:          </th>   <td>    10</td>  \n",
              "</tr>\n",
              "<tr>\n",
              "  <th>Date:</th>            <td>Fri, 15 Mar 2024</td> <th>  Pseudo R-squ.:     </th>   <td>0.05475</td> \n",
              "</tr>\n",
              "<tr>\n",
              "  <th>Time:</th>                <td>01:11:55</td>     <th>  Log-Likelihood:    </th>  <td> -5234.0</td> \n",
              "</tr>\n",
              "<tr>\n",
              "  <th>converged:</th>             <td>True</td>       <th>  LL-Null:           </th>  <td> -5537.2</td> \n",
              "</tr>\n",
              "<tr>\n",
              "  <th>Covariance Type:</th>        <td>HC1</td>       <th>  LLR p-value:       </th> <td>7.731e-124</td>\n",
              "</tr>\n",
              "</table>\n",
              "<table class=\"simpletable\">\n",
              "<tr>\n",
              "      <td></td>         <th>coef</th>     <th>std err</th>      <th>z</th>      <th>P>|z|</th>  <th>[0.025</th>    <th>0.975]</th>  \n",
              "</tr>\n",
              "<tr>\n",
              "  <th>Intercept</th> <td>   -2.9992</td> <td>    0.265</td> <td>  -11.308</td> <td> 0.000</td> <td>   -3.519</td> <td>   -2.479</td>\n",
              "</tr>\n",
              "<tr>\n",
              "  <th>smkban</th>    <td>   -0.2620</td> <td>    0.049</td> <td>   -5.296</td> <td> 0.000</td> <td>   -0.359</td> <td>   -0.165</td>\n",
              "</tr>\n",
              "<tr>\n",
              "  <th>female</th>    <td>   -0.1908</td> <td>    0.049</td> <td>   -3.880</td> <td> 0.000</td> <td>   -0.287</td> <td>   -0.094</td>\n",
              "</tr>\n",
              "<tr>\n",
              "  <th>age</th>       <td>    0.0599</td> <td>    0.012</td> <td>    5.070</td> <td> 0.000</td> <td>    0.037</td> <td>    0.083</td>\n",
              "</tr>\n",
              "<tr>\n",
              "  <th>age2</th>      <td>   -0.0008</td> <td>    0.000</td> <td>   -5.716</td> <td> 0.000</td> <td>   -0.001</td> <td>   -0.001</td>\n",
              "</tr>\n",
              "<tr>\n",
              "  <th>hsdrop</th>    <td>    2.0169</td> <td>    0.134</td> <td>   15.049</td> <td> 0.000</td> <td>    1.754</td> <td>    2.280</td>\n",
              "</tr>\n",
              "<tr>\n",
              "  <th>hsgrad</th>    <td>    1.5785</td> <td>    0.116</td> <td>   13.636</td> <td> 0.000</td> <td>    1.352</td> <td>    1.805</td>\n",
              "</tr>\n",
              "<tr>\n",
              "  <th>colsome</th>   <td>    1.2300</td> <td>    0.118</td> <td>   10.455</td> <td> 0.000</td> <td>    0.999</td> <td>    1.461</td>\n",
              "</tr>\n",
              "<tr>\n",
              "  <th>colgrad</th>   <td>    0.4466</td> <td>    0.126</td> <td>    3.534</td> <td> 0.000</td> <td>    0.199</td> <td>    0.694</td>\n",
              "</tr>\n",
              "<tr>\n",
              "  <th>black</th>     <td>   -0.1560</td> <td>    0.091</td> <td>   -1.710</td> <td> 0.087</td> <td>   -0.335</td> <td>    0.023</td>\n",
              "</tr>\n",
              "<tr>\n",
              "  <th>hispanic</th>  <td>   -0.5972</td> <td>    0.086</td> <td>   -6.929</td> <td> 0.000</td> <td>   -0.766</td> <td>   -0.428</td>\n",
              "</tr>\n",
              "</table>"
            ],
            "text/latex": "\\begin{center}\n\\begin{tabular}{lclc}\n\\toprule\n\\textbf{Dep. Variable:}   &      smoker      & \\textbf{  No. Observations:  } &    10000    \\\\\n\\textbf{Model:}           &      Logit       & \\textbf{  Df Residuals:      } &     9989    \\\\\n\\textbf{Method:}          &       MLE        & \\textbf{  Df Model:          } &       10    \\\\\n\\textbf{Date:}            & Fri, 15 Mar 2024 & \\textbf{  Pseudo R-squ.:     } &  0.05475    \\\\\n\\textbf{Time:}            &     01:11:55     & \\textbf{  Log-Likelihood:    } &   -5234.0   \\\\\n\\textbf{converged:}       &       True       & \\textbf{  LL-Null:           } &   -5537.2   \\\\\n\\textbf{Covariance Type:} &       HC1        & \\textbf{  LLR p-value:       } & 7.731e-124  \\\\\n\\bottomrule\n\\end{tabular}\n\\begin{tabular}{lcccccc}\n                   & \\textbf{coef} & \\textbf{std err} & \\textbf{z} & \\textbf{P$> |$z$|$} & \\textbf{[0.025} & \\textbf{0.975]}  \\\\\n\\midrule\n\\textbf{Intercept} &      -2.9992  &        0.265     &   -11.308  &         0.000        &       -3.519    &       -2.479     \\\\\n\\textbf{smkban}    &      -0.2620  &        0.049     &    -5.296  &         0.000        &       -0.359    &       -0.165     \\\\\n\\textbf{female}    &      -0.1908  &        0.049     &    -3.880  &         0.000        &       -0.287    &       -0.094     \\\\\n\\textbf{age}       &       0.0599  &        0.012     &     5.070  &         0.000        &        0.037    &        0.083     \\\\\n\\textbf{age2}      &      -0.0008  &        0.000     &    -5.716  &         0.000        &       -0.001    &       -0.001     \\\\\n\\textbf{hsdrop}    &       2.0169  &        0.134     &    15.049  &         0.000        &        1.754    &        2.280     \\\\\n\\textbf{hsgrad}    &       1.5785  &        0.116     &    13.636  &         0.000        &        1.352    &        1.805     \\\\\n\\textbf{colsome}   &       1.2300  &        0.118     &    10.455  &         0.000        &        0.999    &        1.461     \\\\\n\\textbf{colgrad}   &       0.4466  &        0.126     &     3.534  &         0.000        &        0.199    &        0.694     \\\\\n\\textbf{black}     &      -0.1560  &        0.091     &    -1.710  &         0.087        &       -0.335    &        0.023     \\\\\n\\textbf{hispanic}  &      -0.5972  &        0.086     &    -6.929  &         0.000        &       -0.766    &       -0.428     \\\\\n\\bottomrule\n\\end{tabular}\n%\\caption{Logit Regression Results}\n\\end{center}"
          },
          "metadata": {},
          "execution_count": 18
        }
      ]
    },
    {
      "cell_type": "code",
      "source": [
        "f_test = Logit_results.f_test(age_hypotheses)\n",
        "print(f_test)"
      ],
      "metadata": {
        "colab": {
          "base_uri": "https://localhost:8080/"
        },
        "id": "UR2jYo02qnPs",
        "outputId": "93753a7f-40ff-401a-b8ec-9b16bf0ed287"
      },
      "execution_count": null,
      "outputs": [
        {
          "output_type": "stream",
          "name": "stdout",
          "text": [
            "<F test: F=105.04619321222606, p=8.542052024249298e-88, df_denom=9.99e+03, df_num=4>\n"
          ]
        }
      ]
    },
    {
      "cell_type": "code",
      "source": [
        "# h) i) Mr. A\n",
        "\n",
        "\n",
        "prediction_Probit_nsmb = Probit_results.predict(pd.DataFrame({'intercept': 1, 'smkban': [0], 'female':[0],\n",
        "    'age':[20],'age2':[20**2],'hsdrop':[1],'hsgrad':[0],'colsome':[0],'colgrad':[0],'black':[0],\n",
        "    'hispanic':[0]}))\n",
        "\n",
        "prediction_Probit_nsmb"
      ],
      "metadata": {
        "colab": {
          "base_uri": "https://localhost:8080/"
        },
        "id": "Ag0elRqpqq1H",
        "outputId": "5baeea2b-e4b3-48b1-dc36-700b994ebeb9"
      },
      "execution_count": null,
      "outputs": [
        {
          "output_type": "execute_result",
          "data": {
            "text/plain": [
              "0    0.464102\n",
              "dtype: float64"
            ]
          },
          "metadata": {},
          "execution_count": 20
        }
      ]
    },
    {
      "cell_type": "code",
      "source": [
        "# Smoke ban\n",
        "\n",
        "prediction_Probit_smb = Probit_results.predict(pd.DataFrame({'intercept': 1, 'smkban': [1], 'female':[0],\n",
        "    'age':[20],'age2':[20**2],'hsdrop':[1],'hsgrad':[0],'colsome':[0],'colgrad':[0],'black':[0],\n",
        "    'hispanic':[0]}))\n",
        "\n",
        "prediction_Probit_smb"
      ],
      "metadata": {
        "colab": {
          "base_uri": "https://localhost:8080/"
        },
        "id": "4u-HkBj_qu_M",
        "outputId": "42b96938-e2f5-4909-c325-db30d994465a"
      },
      "execution_count": null,
      "outputs": [
        {
          "output_type": "execute_result",
          "data": {
            "text/plain": [
              "0    0.401783\n",
              "dtype: float64"
            ]
          },
          "metadata": {},
          "execution_count": 21
        }
      ]
    },
    {
      "cell_type": "code",
      "source": [
        "prediction_Probit_nsmb - prediction_Probit_smb"
      ],
      "metadata": {
        "colab": {
          "base_uri": "https://localhost:8080/"
        },
        "id": "Cdtyi5fFqy1T",
        "outputId": "019f711b-d90a-4aec-b361-042c232f474e"
      },
      "execution_count": null,
      "outputs": [
        {
          "output_type": "execute_result",
          "data": {
            "text/plain": [
              "0    0.062319\n",
              "dtype: float64"
            ]
          },
          "metadata": {},
          "execution_count": 22
        }
      ]
    },
    {
      "cell_type": "code",
      "source": [
        "# h) ii) Ms. B\n",
        "\n",
        "# No smoke ban\n",
        "\n",
        "prediction_Probit_nsmb = Probit_results.predict(pd.DataFrame({'intercept': 1, 'smkban': [0], 'female':[1],\n",
        "    'age':[40],'age2':[40**2],'hsdrop':[0],'hsgrad':[0],'colsome':[0],'colgrad':[1],'black':[1],\n",
        "    'hispanic':[0]}))\n",
        "\n",
        "prediction_Probit_nsmb"
      ],
      "metadata": {
        "colab": {
          "base_uri": "https://localhost:8080/"
        },
        "id": "lhPZhLSSq1V7",
        "outputId": "adddf10e-0a4d-4425-d63c-3cc1bc672b54"
      },
      "execution_count": null,
      "outputs": [
        {
          "output_type": "execute_result",
          "data": {
            "text/plain": [
              "0    0.143696\n",
              "dtype: float64"
            ]
          },
          "metadata": {},
          "execution_count": 23
        }
      ]
    },
    {
      "cell_type": "code",
      "source": [
        "# Smoke ban\n",
        "\n",
        "prediction_Probit_smb = Probit_results.predict(pd.DataFrame({'intercept': 1, 'smkban': [1], 'female':[1],\n",
        "    'age':[40],'age2':[40**2],'hsdrop':[0],'hsgrad':[0],'colsome':[0],'colgrad':[1],'black':[1],\n",
        "    'hispanic':[0]}))\n",
        "\n",
        "prediction_Probit_smb"
      ],
      "metadata": {
        "colab": {
          "base_uri": "https://localhost:8080/"
        },
        "id": "yHHsl_tzq1DH",
        "outputId": "cf51c2a7-15e4-410f-991c-843192f887c7"
      },
      "execution_count": null,
      "outputs": [
        {
          "output_type": "execute_result",
          "data": {
            "text/plain": [
              "0    0.110761\n",
              "dtype: float64"
            ]
          },
          "metadata": {},
          "execution_count": 24
        }
      ]
    },
    {
      "cell_type": "code",
      "source": [
        "prediction_Probit_nsmb - prediction_Probit_smb"
      ],
      "metadata": {
        "colab": {
          "base_uri": "https://localhost:8080/"
        },
        "id": "fDUW3F88q6iC",
        "outputId": "0f0b1ebd-8cc1-45fc-886c-4252aaa16a96"
      },
      "execution_count": null,
      "outputs": [
        {
          "output_type": "execute_result",
          "data": {
            "text/plain": [
              "0    0.032935\n",
              "dtype: float64"
            ]
          },
          "metadata": {},
          "execution_count": 25
        }
      ]
    },
    {
      "cell_type": "code",
      "source": [
        "# h) iii) Using linear probability model. Mr. A\n",
        "\n",
        "prediction_lin_prob_results_nsmb = lin_prob_results.predict(pd.DataFrame({'intercept': 1, 'smkban': [0],\n",
        "    'female':[0], 'age':[20],'age2':[20**2],'hsdrop':[1],'hsgrad':[0],'colsome':[0],'colgrad':[0],\n",
        "    'black':[0],'hispanic':[0]}))\n",
        "\n",
        "print(prediction_lin_prob_results_nsmb)\n",
        "\n",
        "prediction_lin_prob_results_smb = lin_prob_results.predict(pd.DataFrame({'intercept': 1, 'smkban': [1],\n",
        "    'female':[0], 'age':[20],'age2':[20**2],'hsdrop':[1],'hsgrad':[0],'colsome':[0],'colgrad':[0],\n",
        "    'black':[0],'hispanic':[0]}))\n",
        "\n",
        "print(prediction_lin_prob_results_smb)\n",
        "\n",
        "print(prediction_lin_prob_results_nsmb - prediction_lin_prob_results_smb)"
      ],
      "metadata": {
        "colab": {
          "base_uri": "https://localhost:8080/"
        },
        "id": "M5Hw2J2_q9So",
        "outputId": "665705cc-0db2-4266-eaee-4eecb705e702"
      },
      "execution_count": null,
      "outputs": [
        {
          "output_type": "stream",
          "name": "stdout",
          "text": [
            "0    0.449372\n",
            "dtype: float64\n",
            "0    0.402132\n",
            "dtype: float64\n",
            "0    0.04724\n",
            "dtype: float64\n"
          ]
        }
      ]
    },
    {
      "cell_type": "code",
      "source": [
        "# h) iii) Using linear probability model. Ms. B\n",
        "\n",
        "prediction_lin_prob_results_nsmb = lin_prob_results.predict(pd.DataFrame({'intercept': 1, 'smkban': [0],\n",
        "    'female':[1], 'age':[40],'age2':[40**2],'hsdrop':[0],'hsgrad':[0],'colsome':[0],'colgrad':[1],\n",
        "    'black':[1],'hispanic':[0]}))\n",
        "\n",
        "print(prediction_lin_prob_results_nsmb)\n",
        "\n",
        "prediction_lin_prob_results_smb = lin_prob_results.predict(pd.DataFrame({'intercept': 1, 'smkban': [1],\n",
        "    'female':[1], 'age':[40],'age2':[40**2],'hsdrop':[0],'hsgrad':[0],'colsome':[0],'colgrad':[1],\n",
        "    'black':[1],'hispanic':[0]}))\n",
        "\n",
        "print(prediction_lin_prob_results_smb)\n",
        "\n",
        "print(prediction_lin_prob_results_nsmb - prediction_lin_prob_results_smb)"
      ],
      "metadata": {
        "colab": {
          "base_uri": "https://localhost:8080/"
        },
        "id": "Ea2YypYJq8-H",
        "outputId": "b290abde-2a0c-4517-f3dd-c961982033ef"
      },
      "execution_count": null,
      "outputs": [
        {
          "output_type": "stream",
          "name": "stdout",
          "text": [
            "0    0.145961\n",
            "dtype: float64\n",
            "0    0.098721\n",
            "dtype: float64\n",
            "0    0.04724\n",
            "dtype: float64\n"
          ]
        }
      ]
    },
    {
      "cell_type": "code",
      "source": [
        "# h) iv) Using logit model. Mr. A.\n",
        "\n",
        "prediction_Logit_nsmb = Logit_results.predict(pd.DataFrame({'intercept': 1, 'smkban': [0], 'female':[0],\n",
        "    'age':[20],'age2':[20**2],'hsdrop':[1],'hsgrad':[0],'colsome':[0],'colgrad':[0],\n",
        "    'black':[0],'hispanic':[0]}))\n",
        "\n",
        "print(prediction_Logit_nsmb)\n",
        "\n",
        "prediction_Logit_smb = Logit_results.predict(pd.DataFrame({'intercept': 1, 'smkban': [1], 'female':[0],\n",
        "    'age':[20],'age2':[20**2],'hsdrop':[1],'hsgrad':[0],'colsome':[0],'colgrad':[0],\n",
        "    'black':[0],'hispanic':[0]}))\n",
        "\n",
        "print(prediction_Logit_smb)\n",
        "\n",
        "print(prediction_Logit_nsmb - prediction_Logit_smb)"
      ],
      "metadata": {
        "colab": {
          "base_uri": "https://localhost:8080/"
        },
        "id": "I11VP7EPrDc2",
        "outputId": "7358fa18-a362-498b-b9b4-d05f61e05777"
      },
      "execution_count": null,
      "outputs": [
        {
          "output_type": "stream",
          "name": "stdout",
          "text": [
            "0    0.47231\n",
            "dtype: float64\n",
            "0    0.40784\n",
            "dtype: float64\n",
            "0    0.06447\n",
            "dtype: float64\n"
          ]
        }
      ]
    },
    {
      "cell_type": "code",
      "source": [
        "# h) iv) Using logit model. Ms. B.\n",
        "\n",
        "prediction_Logit_nsmb = Logit_results.predict(pd.DataFrame({'intercept': 1, 'smkban': [0], 'female':[1],\n",
        "    'age':[40],'age2':[40**2],'hsdrop':[0],'hsgrad':[0],'colsome':[0],'colgrad':[1],\n",
        "    'black':[1],'hispanic':[0]}))\n",
        "\n",
        "print(prediction_Logit_nsmb)\n",
        "\n",
        "prediction_Logit_smb = Logit_results.predict(pd.DataFrame({'intercept': 1, 'smkban': [1], 'female':[1],\n",
        "    'age':[40],'age2':[40**2],'hsdrop':[0],'hsgrad':[0],'colsome':[0],'colgrad':[1],\n",
        "    'black':[1],'hispanic':[0]}))\n",
        "\n",
        "print(prediction_Logit_smb)\n",
        "\n",
        "print(prediction_Logit_nsmb - prediction_Logit_smb)"
      ],
      "metadata": {
        "colab": {
          "base_uri": "https://localhost:8080/"
        },
        "id": "Chab3u3brF-_",
        "outputId": "3f4e0b8f-2bc8-42ec-b271-064e7ad6f74a"
      },
      "execution_count": null,
      "outputs": [
        {
          "output_type": "stream",
          "name": "stdout",
          "text": [
            "0    0.140512\n",
            "dtype: float64\n",
            "0    0.111742\n",
            "dtype: float64\n",
            "0    0.02877\n",
            "dtype: float64\n"
          ]
        }
      ]
    }
  ]
}